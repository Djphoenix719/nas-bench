{
 "cells": [
  {
   "cell_type": "code",
   "execution_count": null,
   "outputs": [],
   "source": [
    "import os\n",
    "import pandas as pd\n",
    "from trials.Utilities import write_table_html"
   ],
   "metadata": {
    "collapsed": false,
    "pycharm": {
     "name": "#%%\n"
    }
   }
  },
  {
   "cell_type": "code",
   "execution_count": null,
   "outputs": [],
   "source": [
    "\n",
    "base_path = 'graphs'\n",
    "trials = os.listdir(base_path)\n",
    "\n",
    "def append_epoch(source: pd.DataFrame, epoch: pd.DataFrame) -> pd.DataFrame:\n",
    "    return source.append({\n",
    "        'epoch_num': epoch_num,\n",
    "        'parameters': epoch['parameters'],\n",
    "        'train_time': epoch['train_time'],\n",
    "        'test_accuracy': epoch['test_accuracy'],\n",
    "        'valid_accuracy': epoch['valid_accuracy'],\n",
    "        'total_accuracy': epoch['total_accuracy'],\n",
    "    }, ignore_index=True)\n",
    "\n",
    "for trial_name in trials:\n",
    "    trial_path = os.path.join(base_path, trial_name)\n",
    "    epochs = os.listdir(trial_path)\n",
    "\n",
    "    med = pd.DataFrame()\n",
    "    mean = pd.DataFrame()\n",
    "    std = pd.DataFrame()\n",
    "    min = pd.DataFrame()\n",
    "    max = pd.DataFrame()\n",
    "\n",
    "    for epoch_name in epochs:\n",
    "        epoch_path = os.path.join(trial_path, epoch_name)\n",
    "        if not os.path.isdir(epoch_path):\n",
    "            continue\n",
    "\n",
    "        epoch_num = int(epoch_name.replace('Epoch ', ''))\n",
    "\n",
    "        #all = pd.read_csv(os.path.join(epoch_path, 'All.csv'))\n",
    "        #best = pd.read_csv(os.path.join(epoch_path, 'Best.csv'))\n",
    "        pop = pd.read_csv(os.path.join(epoch_path, 'Population.csv'))\n",
    "\n",
    "        target = pop # for quick switching during testing\n",
    "        med = append_epoch(med, target.median())\n",
    "        mean = append_epoch(mean, target.mean())\n",
    "        std = append_epoch(std, target.std())\n",
    "        min = append_epoch(min, target.min())\n",
    "        max = append_epoch(max, target.max())\n",
    "\n",
    "    med = med.set_index(keys=['epoch_num']).sort_index()\n",
    "    mean = mean.set_index(keys=['epoch_num']).sort_index()\n",
    "    std = std.set_index(keys=['epoch_num']).sort_index()\n",
    "    min = min.set_index(keys=['epoch_num']).sort_index()\n",
    "    max = max.set_index(keys=['epoch_num']).sort_index()\n",
    "\n",
    "    def write(df: pd.DataFrame, name: str, precision: int = 5):\n",
    "        df = df.style.set_caption(f'{name} Values for {trial_name}').format(precision=precision)\n",
    "        write_table_html(df, trial_path, f'{name}.html', over_write=True)\n",
    "\n",
    "    write(med, 'Median')\n",
    "    write(mean, 'Mean')\n",
    "    write(std, 'Std. Deviation')\n",
    "    write(min, 'Minimum')\n",
    "    write(max, 'Maximum')\n",
    "\n"
   ],
   "metadata": {
    "collapsed": false,
    "pycharm": {
     "name": "#%%\n"
    }
   }
  }
 ],
 "metadata": {
  "kernelspec": {
   "display_name": "Python 3",
   "language": "python",
   "name": "python3"
  },
  "language_info": {
   "codemirror_mode": {
    "name": "ipython",
    "version": 2
   },
   "file_extension": ".py",
   "mimetype": "text/x-python",
   "name": "python",
   "nbconvert_exporter": "python",
   "pygments_lexer": "ipython2",
   "version": "2.7.6"
  }
 },
 "nbformat": 4,
 "nbformat_minor": 0
}