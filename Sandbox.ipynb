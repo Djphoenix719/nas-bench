{
 "cells": [
  {
   "cell_type": "code",
   "execution_count": 6,
   "outputs": [],
   "source": [
    "from typing import Tuple\n",
    "\n",
    "from trials.ModelSpec import SpecWrapper\n",
    "from trials.Constants import nasbench, ALL_HASH\n",
    "from trials.Utilities import get_spec\n",
    "from trials.Utilities import random_spec\n",
    "from typing import List\n",
    "from typing import Union\n",
    "import os\n",
    "import json\n",
    "from matplotlib import pyplot as plt\n",
    "import numpy as np\n",
    "from IPython.display import clear_output\n",
    "from scipy import signal"
   ],
   "metadata": {
    "collapsed": false,
    "pycharm": {
     "name": "#%%\n"
    }
   }
  },
  {
   "cell_type": "code",
   "execution_count": 7,
   "outputs": [],
   "source": [
    "def clear_print(text: str, wait: bool = True) -> None:\n",
    "    clear_output(wait=wait)\n",
    "    print(text)"
   ],
   "metadata": {
    "collapsed": false,
    "pycharm": {
     "name": "#%%\n"
    }
   }
  },
  {
   "cell_type": "code",
   "execution_count": 8,
   "outputs": [],
   "source": [
    "PAD_LENGTH = 15\n",
    "FIG_SIZE = (16, 8)"
   ],
   "metadata": {
    "collapsed": false,
    "pycharm": {
     "name": "#%%\n"
    }
   }
  },
  {
   "cell_type": "code",
   "execution_count": 9,
   "outputs": [],
   "source": [
    "def smoothed_line_figure(y_half: Union[List[float], np.ndarray], y_full: Union[List[float], np.ndarray]) -> Tuple[plt.Figure, plt.Axes]:\n",
    "    assert len(y_half) == len(y_full)\n",
    "\n",
    "    x = np.arange(len(y_half))\n",
    "    filter_b, filter_a = signal.butter(8, 0.05)\n",
    "\n",
    "    y_half_smoothed = signal.filtfilt(filter_b, filter_a, y_half, padlen=PAD_LENGTH)\n",
    "    y_full_smoothed = signal.filtfilt(filter_b, filter_a, y_full, padlen=PAD_LENGTH)\n",
    "\n",
    "    fig, axis = plt.subplots(figsize=FIG_SIZE)\n",
    "\n",
    "    lines_y_half_smoothed = plt.plot(x, y_half_smoothed, color='black', alpha=1.0)\n",
    "    lines_y_half = plt.plot(x, y_half, color='black', alpha=0.25, marker='o')\n",
    "\n",
    "    lines_y_full_smoothed = plt.plot(x, y_full_smoothed, color='orange', alpha=1.0)\n",
    "    lines_y_full = plt.plot(x, y_full, color='orange', alpha=0.25, marker='o')\n",
    "\n",
    "    return (fig, axis)"
   ],
   "metadata": {
    "collapsed": false,
    "pycharm": {
     "name": "#%%\n"
    }
   }
  },
  {
   "cell_type": "code",
   "execution_count": 12,
   "outputs": [
    {
     "ename": "KeyboardInterrupt",
     "evalue": "",
     "output_type": "error",
     "traceback": [
      "\u001B[1;31m---------------------------------------------------------------------------\u001B[0m",
      "\u001B[1;31mKeyboardInterrupt\u001B[0m                         Traceback (most recent call last)",
      "\u001B[1;32m~\\AppData\\Local\\Temp/ipykernel_1860/2219792194.py\u001B[0m in \u001B[0;36m<module>\u001B[1;34m\u001B[0m\n\u001B[0;32m     30\u001B[0m \u001B[1;33m\u001B[0m\u001B[0m\n\u001B[0;32m     31\u001B[0m             \u001B[0mscores_half\u001B[0m \u001B[1;33m=\u001B[0m \u001B[1;33m[\u001B[0m\u001B[0mind\u001B[0m\u001B[1;33m.\u001B[0m\u001B[0mget_data\u001B[0m\u001B[1;33m(\u001B[0m\u001B[1;33m)\u001B[0m\u001B[1;33m.\u001B[0m\u001B[0mtotal_accuracy\u001B[0m \u001B[1;32mfor\u001B[0m \u001B[0mind\u001B[0m \u001B[1;32min\u001B[0m \u001B[0mspecs_half\u001B[0m\u001B[1;33m]\u001B[0m\u001B[1;33m\u001B[0m\u001B[1;33m\u001B[0m\u001B[0m\n\u001B[1;32m---> 32\u001B[1;33m             \u001B[0my_half\u001B[0m\u001B[1;33m.\u001B[0m\u001B[0mappend\u001B[0m\u001B[1;33m(\u001B[0m\u001B[0mnp\u001B[0m\u001B[1;33m.\u001B[0m\u001B[0mmedian\u001B[0m\u001B[1;33m(\u001B[0m\u001B[0mscores_half\u001B[0m\u001B[1;33m)\u001B[0m\u001B[1;33m)\u001B[0m\u001B[1;33m\u001B[0m\u001B[1;33m\u001B[0m\u001B[0m\n\u001B[0m\u001B[0;32m     33\u001B[0m             \u001B[0mstd_dv_half\u001B[0m\u001B[1;33m.\u001B[0m\u001B[0mappend\u001B[0m\u001B[1;33m(\u001B[0m\u001B[0mnp\u001B[0m\u001B[1;33m.\u001B[0m\u001B[0mstd\u001B[0m\u001B[1;33m(\u001B[0m\u001B[0mscores_half\u001B[0m\u001B[1;33m)\u001B[0m\u001B[1;33m)\u001B[0m\u001B[1;33m\u001B[0m\u001B[1;33m\u001B[0m\u001B[0m\n\u001B[0;32m     34\u001B[0m \u001B[1;33m\u001B[0m\u001B[0m\n",
      "\u001B[1;32m<__array_function__ internals>\u001B[0m in \u001B[0;36mmedian\u001B[1;34m(*args, **kwargs)\u001B[0m\n",
      "\u001B[1;32md:\\nas-bench\\venv\\lib\\site-packages\\numpy\\lib\\function_base.py\u001B[0m in \u001B[0;36mmedian\u001B[1;34m(a, axis, out, overwrite_input, keepdims)\u001B[0m\n\u001B[0;32m   3654\u001B[0m     \"\"\"\n\u001B[0;32m   3655\u001B[0m     r, k = _ureduce(a, func=_median, axis=axis, out=out,\n\u001B[1;32m-> 3656\u001B[1;33m                     overwrite_input=overwrite_input)\n\u001B[0m\u001B[0;32m   3657\u001B[0m     \u001B[1;32mif\u001B[0m \u001B[0mkeepdims\u001B[0m\u001B[1;33m:\u001B[0m\u001B[1;33m\u001B[0m\u001B[1;33m\u001B[0m\u001B[0m\n\u001B[0;32m   3658\u001B[0m         \u001B[1;32mreturn\u001B[0m \u001B[0mr\u001B[0m\u001B[1;33m.\u001B[0m\u001B[0mreshape\u001B[0m\u001B[1;33m(\u001B[0m\u001B[0mk\u001B[0m\u001B[1;33m)\u001B[0m\u001B[1;33m\u001B[0m\u001B[1;33m\u001B[0m\u001B[0m\n",
      "\u001B[1;32md:\\nas-bench\\venv\\lib\\site-packages\\numpy\\lib\\function_base.py\u001B[0m in \u001B[0;36m_ureduce\u001B[1;34m(a, func, **kwargs)\u001B[0m\n\u001B[0;32m   3562\u001B[0m         \u001B[0mkeepdim\u001B[0m \u001B[1;33m=\u001B[0m \u001B[1;33m(\u001B[0m\u001B[1;36m1\u001B[0m\u001B[1;33m,\u001B[0m\u001B[1;33m)\u001B[0m \u001B[1;33m*\u001B[0m \u001B[0ma\u001B[0m\u001B[1;33m.\u001B[0m\u001B[0mndim\u001B[0m\u001B[1;33m\u001B[0m\u001B[1;33m\u001B[0m\u001B[0m\n\u001B[0;32m   3563\u001B[0m \u001B[1;33m\u001B[0m\u001B[0m\n\u001B[1;32m-> 3564\u001B[1;33m     \u001B[0mr\u001B[0m \u001B[1;33m=\u001B[0m \u001B[0mfunc\u001B[0m\u001B[1;33m(\u001B[0m\u001B[0ma\u001B[0m\u001B[1;33m,\u001B[0m \u001B[1;33m**\u001B[0m\u001B[0mkwargs\u001B[0m\u001B[1;33m)\u001B[0m\u001B[1;33m\u001B[0m\u001B[1;33m\u001B[0m\u001B[0m\n\u001B[0m\u001B[0;32m   3565\u001B[0m     \u001B[1;32mreturn\u001B[0m \u001B[0mr\u001B[0m\u001B[1;33m,\u001B[0m \u001B[0mkeepdim\u001B[0m\u001B[1;33m\u001B[0m\u001B[1;33m\u001B[0m\u001B[0m\n\u001B[0;32m   3566\u001B[0m \u001B[1;33m\u001B[0m\u001B[0m\n",
      "\u001B[1;32md:\\nas-bench\\venv\\lib\\site-packages\\numpy\\lib\\function_base.py\u001B[0m in \u001B[0;36m_median\u001B[1;34m(a, axis, out, overwrite_input)\u001B[0m\n\u001B[0;32m   3688\u001B[0m             \u001B[0mpart\u001B[0m \u001B[1;33m=\u001B[0m \u001B[0ma\u001B[0m\u001B[1;33m\u001B[0m\u001B[1;33m\u001B[0m\u001B[0m\n\u001B[0;32m   3689\u001B[0m     \u001B[1;32melse\u001B[0m\u001B[1;33m:\u001B[0m\u001B[1;33m\u001B[0m\u001B[1;33m\u001B[0m\u001B[0m\n\u001B[1;32m-> 3690\u001B[1;33m         \u001B[0mpart\u001B[0m \u001B[1;33m=\u001B[0m \u001B[0mpartition\u001B[0m\u001B[1;33m(\u001B[0m\u001B[0ma\u001B[0m\u001B[1;33m,\u001B[0m \u001B[0mkth\u001B[0m\u001B[1;33m,\u001B[0m \u001B[0maxis\u001B[0m\u001B[1;33m=\u001B[0m\u001B[0maxis\u001B[0m\u001B[1;33m)\u001B[0m\u001B[1;33m\u001B[0m\u001B[1;33m\u001B[0m\u001B[0m\n\u001B[0m\u001B[0;32m   3691\u001B[0m \u001B[1;33m\u001B[0m\u001B[0m\n\u001B[0;32m   3692\u001B[0m     \u001B[1;32mif\u001B[0m \u001B[0mpart\u001B[0m\u001B[1;33m.\u001B[0m\u001B[0mshape\u001B[0m \u001B[1;33m==\u001B[0m \u001B[1;33m(\u001B[0m\u001B[1;33m)\u001B[0m\u001B[1;33m:\u001B[0m\u001B[1;33m\u001B[0m\u001B[1;33m\u001B[0m\u001B[0m\n",
      "\u001B[1;32m<__array_function__ internals>\u001B[0m in \u001B[0;36mpartition\u001B[1;34m(*args, **kwargs)\u001B[0m\n",
      "\u001B[1;32md:\\nas-bench\\venv\\lib\\site-packages\\numpy\\core\\fromnumeric.py\u001B[0m in \u001B[0;36mpartition\u001B[1;34m(a, kth, axis, kind, order)\u001B[0m\n\u001B[0;32m    753\u001B[0m     \u001B[1;32melse\u001B[0m\u001B[1;33m:\u001B[0m\u001B[1;33m\u001B[0m\u001B[1;33m\u001B[0m\u001B[0m\n\u001B[0;32m    754\u001B[0m         \u001B[0ma\u001B[0m \u001B[1;33m=\u001B[0m \u001B[0masanyarray\u001B[0m\u001B[1;33m(\u001B[0m\u001B[0ma\u001B[0m\u001B[1;33m)\u001B[0m\u001B[1;33m.\u001B[0m\u001B[0mcopy\u001B[0m\u001B[1;33m(\u001B[0m\u001B[0morder\u001B[0m\u001B[1;33m=\u001B[0m\u001B[1;34m\"K\"\u001B[0m\u001B[1;33m)\u001B[0m\u001B[1;33m\u001B[0m\u001B[1;33m\u001B[0m\u001B[0m\n\u001B[1;32m--> 755\u001B[1;33m     \u001B[0ma\u001B[0m\u001B[1;33m.\u001B[0m\u001B[0mpartition\u001B[0m\u001B[1;33m(\u001B[0m\u001B[0mkth\u001B[0m\u001B[1;33m,\u001B[0m \u001B[0maxis\u001B[0m\u001B[1;33m=\u001B[0m\u001B[0maxis\u001B[0m\u001B[1;33m,\u001B[0m \u001B[0mkind\u001B[0m\u001B[1;33m=\u001B[0m\u001B[0mkind\u001B[0m\u001B[1;33m,\u001B[0m \u001B[0morder\u001B[0m\u001B[1;33m=\u001B[0m\u001B[0morder\u001B[0m\u001B[1;33m)\u001B[0m\u001B[1;33m\u001B[0m\u001B[1;33m\u001B[0m\u001B[0m\n\u001B[0m\u001B[0;32m    756\u001B[0m     \u001B[1;32mreturn\u001B[0m \u001B[0ma\u001B[0m\u001B[1;33m\u001B[0m\u001B[1;33m\u001B[0m\u001B[0m\n\u001B[0;32m    757\u001B[0m \u001B[1;33m\u001B[0m\u001B[0m\n",
      "\u001B[1;31mKeyboardInterrupt\u001B[0m: "
     ]
    }
   ],
   "source": [
    "graphs_path = os.path.join(os.getcwd(), 'graphs')\n",
    "for trial_name in os.listdir(graphs_path):\n",
    "    is_half = \"Half\" in trial_name\n",
    "    trial_path = os.path.join(graphs_path, trial_name)\n",
    "\n",
    "    if not os.path.isdir(trial_path):\n",
    "        continue\n",
    "\n",
    "    for epoch_name in os.listdir(trial_path):\n",
    "        y_half = []\n",
    "        y_full = []\n",
    "        std_dv_half = []\n",
    "        std_dv_full = []\n",
    "\n",
    "        title_accuracy = f'{trial_name} - {epoch_name} - Median Total Accuracy'\n",
    "        path_accuracy = os.path.join(os.path.join(graphs_path, f'{title_accuracy}.png'))\n",
    "        title_delta = f'{trial_name} - {epoch_name} - Median Total Accuracy Delta'\n",
    "        path_delta = os.path.join(os.path.join(graphs_path, f'{title_accuracy}.png'))\n",
    "\n",
    "        # if os.path.exists(path_accuracy) and os.path.exists(path_delta):\n",
    "        #     continue\n",
    "\n",
    "        heredity_path = os.path.join(trial_path, epoch_name, 'Heredity')\n",
    "        for file_name in os.listdir(heredity_path):\n",
    "            file_path = os.path.join(heredity_path, file_name)\n",
    "\n",
    "            hashes = json.load(open(file_path, 'r', encoding='utf8'))\n",
    "            specs_half = [get_spec(hsh, stop_halfway=False) for hsh in hashes]\n",
    "            specs_full = [get_spec(hsh, stop_halfway=True) for hsh in hashes]\n",
    "\n",
    "            scores_half = [ind.get_data().total_accuracy for ind in specs_half]\n",
    "            y_half.append(np.median(scores_half))\n",
    "            std_dv_half.append(np.std(scores_half))\n",
    "\n",
    "            scores_full = [ind.get_data().total_accuracy for ind in specs_full]\n",
    "            y_full.append(np.median(scores_full))\n",
    "            std_dv_full.append(np.std(scores_full))\n",
    "\n",
    "        fig, axis = smoothed_line_figure(y_half, y_full)\n",
    "        plt.title(title_accuracy)\n",
    "        plt.ylabel('Median Total Accuracy')\n",
    "        plt.xlabel('Generation')\n",
    "        plt.savefig(os.path.join(graphs_path, f'{title_accuracy}.png'))\n",
    "        plt.close(fig)\n",
    "\n",
    "        fig, axis = smoothed_line_figure(np.diff(y_half), np.diff(y_full))\n",
    "        plt.title('Baseline Random - Training Velocity')\n",
    "        plt.ylabel('Improvement Over Previous Generation')\n",
    "        plt.xlabel('Generation')\n",
    "        plt.savefig(os.path.join(graphs_path, f'{title_delta}.png'))\n",
    "        plt.close(fig)\n",
    "\n"
   ],
   "metadata": {
    "collapsed": false,
    "pycharm": {
     "name": "#%%\n"
    }
   }
  },
  {
   "cell_type": "code",
   "execution_count": null,
   "outputs": [],
   "source": [
    "#trial_name = 'Baseline Random Half'\n",
    "#epoch_name = 'Epoch 1'\n",
    "#graphs_path = os.path.join(os.getcwd(), 'graphs')\n",
    "#trial_path = os.path.join(graphs_path, trial_name)\n",
    "#\n",
    "#y_half = []\n",
    "#y_full = []\n",
    "#std_dv_half = []\n",
    "#std_dv_full = []\n",
    "#\n",
    "#title_accuracy = f'{trial_name} - {epoch_name} - Median Total Accuracy'\n",
    "#path_accuracy = os.path.join(os.path.join(graphs_path, f'{title_accuracy}.png'))\n",
    "#title_delta = f'{trial_name} - {epoch_name} - Median Total Accuracy Delta'\n",
    "#path_delta = os.path.join(os.path.join(graphs_path, f'{title_accuracy}.png'))\n",
    "#\n",
    "#heredity_path = os.path.join(trial_path, epoch_name, 'Heredity')\n",
    "#for file_name in os.listdir(heredity_path):\n",
    "#    file_path = os.path.join(heredity_path, file_name)\n",
    "#\n",
    "#    hashes = json.load(open(file_path, 'r', encoding='utf8'))\n",
    "#    specs_half = [get_spec(hsh, stop_halfway=False) for hsh in hashes]\n",
    "#    specs_full = [get_spec(hsh, stop_halfway=True) for hsh in hashes]\n",
    "#\n",
    "#    scores_half = [ind.get_data().total_accuracy for ind in specs_half]\n",
    "#    y_half.append(np.median(scores_half))\n",
    "#    std_dv_half.append(np.std(scores_half))\n",
    "#\n",
    "#    scores_full = [ind.get_data().total_accuracy for ind in specs_full]\n",
    "#    y_full.append(np.median(scores_full))\n",
    "#    std_dv_full.append(np.std(scores_full))"
   ],
   "metadata": {
    "collapsed": false,
    "pycharm": {
     "name": "#%%\n"
    }
   }
  },
  {
   "cell_type": "code",
   "execution_count": null,
   "outputs": [],
   "source": [
    "#fig, ax = smoothed_line_figure(y_half, y_full)\n",
    "#plt.title(title_accuracy)\n",
    "#plt.ylabel('Median Total Accuracy')\n",
    "#plt.xlabel('Generation')\n",
    "#max_half = np.max(y_half)\n",
    "#max_half_idx = np.argmax(y_half)\n",
    "#ax.annotate(f'{max_half:0.2f}', (max_half_idx, max_half), textcoords='data')\n",
    "## plt.savefig(os.path.join(graphs_path, f'{title_accuracy}.png'))\n",
    "#plt.show()\n",
    "#plt.close(fig)\n",
    "#\n",
    "#fig, ax = smoothed_line_figure(np.diff(y_half), np.diff(y_full))\n",
    "#plt.title('Baseline Random - Training Velocity')\n",
    "#plt.ylabel('Improvement Over Previous Generation')\n",
    "#plt.xlabel('Generation')\n",
    "#max_half = np.max(y_full)\n",
    "#max_half_idx = np.argmax(y_half)\n",
    "#ax.annotate(f'{max_half:0.2f}', (max_half_idx, max_half), textcoords='data')\n",
    "## plt.savefig(os.path.join(graphs_path, f'{title_delta}.png'))\n",
    "#plt.show()\n",
    "#plt.close(fig)"
   ],
   "metadata": {
    "collapsed": false,
    "pycharm": {
     "name": "#%%\n"
    }
   }
  },
  {
   "cell_type": "code",
   "execution_count": null,
   "outputs": [],
   "source": [],
   "metadata": {
    "collapsed": false,
    "pycharm": {
     "name": "#%%\n"
    }
   }
  }
 ],
 "metadata": {
  "kernelspec": {
   "display_name": "Python 3",
   "language": "python",
   "name": "python3"
  },
  "language_info": {
   "codemirror_mode": {
    "name": "ipython",
    "version": 2
   },
   "file_extension": ".py",
   "mimetype": "text/x-python",
   "name": "python",
   "nbconvert_exporter": "python",
   "pygments_lexer": "ipython2",
   "version": "2.7.6"
  }
 },
 "nbformat": 4,
 "nbformat_minor": 0
}