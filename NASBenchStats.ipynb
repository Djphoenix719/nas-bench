{
 "cells": [
  {
   "cell_type": "code",
   "execution_count": null,
   "metadata": {
    "collapsed": true
   },
   "outputs": [],
   "source": [
    "import copy\n",
    "import pandas as pd\n",
    "from nasbench import api\n",
    "from tqdm.notebook import tqdm\n",
    "\n",
    "nasbench = api.NASBench(\"nasbench_full.tfrecord\")"
   ]
  },
  {
   "cell_type": "code",
   "execution_count": null,
   "outputs": [],
   "source": [
    "INPUT = \"input\"\n",
    "OUTPUT = \"output\"\n",
    "CONV3X3 = \"conv3x3-bn-relu\"\n",
    "CONV1X1 = \"conv1x1-bn-relu\"\n",
    "MAXPOOL3X3 = \"maxpool3x3\"\n",
    "\n",
    "NUM_VERTICES = 7\n",
    "MAX_EDGES = 9\n",
    "\n",
    "EDGE_SPOTS = NUM_VERTICES * (NUM_VERTICES - 1) / 2  # Upper triangular matrix\n",
    "OP_SPOTS = NUM_VERTICES - 2  # Input/output vertices are fixed\n",
    "\n",
    "ALLOWED_OPS = [CONV3X3, CONV1X1, MAXPOOL3X3]\n",
    "ALLOWED_EDGES = [0, 1]  # Binary adjacency matrix\""
   ],
   "metadata": {
    "collapsed": false,
    "pycharm": {
     "name": "#%%\n"
    }
   }
  },
  {
   "cell_type": "code",
   "execution_count": null,
   "outputs": [],
   "source": [
    "# query max accuracy model from dataset\n",
    "all_data = []\n",
    "for key, data in tqdm(nasbench.fixed_statistics.items()):\n",
    "    results = nasbench.query(\n",
    "        api.ModelSpec(matrix=data[\"module_adjacency\"], ops=data[\"module_operations\"])\n",
    "    )\n",
    "    results = copy.deepcopy(results)\n",
    "    results[\"hash\"] = key\n",
    "    del results[\"module_adjacency\"]\n",
    "    del results[\"module_operations\"]\n",
    "    results = [\n",
    "        results[\"hash\"],\n",
    "        results[\"trainable_parameters\"],\n",
    "        results[\"training_time\"],\n",
    "        results[\"train_accuracy\"],\n",
    "        results[\"validation_accuracy\"],\n",
    "        results[\"test_accuracy\"],\n",
    "    ]\n",
    "    all_data.append(results)"
   ],
   "metadata": {
    "collapsed": false,
    "pycharm": {
     "name": "#%%\n"
    }
   }
  },
  {
   "cell_type": "code",
   "execution_count": null,
   "outputs": [],
   "source": [
    "df = pd.DataFrame(\n",
    "    all_data,\n",
    "    columns=[\n",
    "        \"Hash\",\n",
    "        \"Trainable Parameters\",\n",
    "        \"Training Time\",\n",
    "        \"Train Accuracy\",\n",
    "        \"Validation Accuracy\",\n",
    "        \"Test Accuracy\",\n",
    "    ],\n",
    ")"
   ],
   "metadata": {
    "collapsed": false,
    "pycharm": {
     "name": "#%%\n"
    }
   }
  },
  {
   "cell_type": "code",
   "execution_count": null,
   "outputs": [],
   "source": [
    "df._get_numeric_data().min()"
   ],
   "metadata": {
    "collapsed": false,
    "pycharm": {
     "name": "#%%\n"
    }
   }
  },
  {
   "cell_type": "code",
   "execution_count": null,
   "outputs": [],
   "source": [
    "df._get_numeric_data().max()"
   ],
   "metadata": {
    "collapsed": false,
    "pycharm": {
     "name": "#%%\n"
    }
   }
  },
  {
   "cell_type": "code",
   "execution_count": null,
   "outputs": [],
   "source": [
    "df._get_numeric_data().median()"
   ],
   "metadata": {
    "collapsed": false,
    "pycharm": {
     "name": "#%%\n"
    }
   }
  },
  {
   "cell_type": "code",
   "execution_count": null,
   "outputs": [],
   "source": [
    "df._get_numeric_data().mean()"
   ],
   "metadata": {
    "collapsed": false,
    "pycharm": {
     "name": "#%%\n"
    }
   }
  },
  {
   "cell_type": "code",
   "execution_count": null,
   "outputs": [],
   "source": [
    "df._get_numeric_data().std()"
   ],
   "metadata": {
    "collapsed": false,
    "pycharm": {
     "name": "#%%\n"
    }
   }
  }
 ],
 "metadata": {
  "kernelspec": {
   "display_name": "Python 3",
   "language": "python",
   "name": "python3"
  },
  "language_info": {
   "codemirror_mode": {
    "name": "ipython",
    "version": 2
   },
   "file_extension": ".py",
   "mimetype": "text/x-python",
   "name": "python",
   "nbconvert_exporter": "python",
   "pygments_lexer": "ipython2",
   "version": "2.7.6"
  }
 },
 "nbformat": 4,
 "nbformat_minor": 0
}