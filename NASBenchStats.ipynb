{
 "cells": [
  {
   "cell_type": "code",
   "execution_count": 1,
   "metadata": {
    "collapsed": true
   },
   "outputs": [
    {
     "name": "stdout",
     "output_type": "stream",
     "text": [
      "WARNING:tensorflow:From d:\\nas-bench\\venv\\lib\\site-packages\\nasbench\\lib\\training_time.py:130: The name tf.train.SessionRunHook is deprecated. Please use tf.estimator.SessionRunHook instead.\n",
      "\n",
      "WARNING:tensorflow:From d:\\nas-bench\\venv\\lib\\site-packages\\nasbench\\lib\\training_time.py:174: The name tf.train.CheckpointSaverListener is deprecated. Please use tf.estimator.CheckpointSaverListener instead.\n",
      "\n",
      "WARNING:tensorflow:From d:\\nas-bench\\venv\\lib\\site-packages\\nasbench\\lib\\evaluate.py:30: The name tf.train.NanLossDuringTrainingError is deprecated. Please use tf.estimator.NanLossDuringTrainingError instead.\n",
      "\n",
      "Loading dataset from file... This may take a few minutes...\n",
      "WARNING:tensorflow:From d:\\nas-bench\\venv\\lib\\site-packages\\nasbench\\api.py:146: tf_record_iterator (from tensorflow.python.lib.io.tf_record) is deprecated and will be removed in a future version.\n",
      "Instructions for updating:\n",
      "Use eager execution and: \n",
      "`tf.data.TFRecordDataset(path)`\n",
      "Loaded dataset in 124 seconds\n"
     ]
    }
   ],
   "source": [
    "import copy\n",
    "import pandas as pd\n",
    "from nasbench import api\n",
    "from tqdm.notebook import tqdm\n",
    "\n",
    "nasbench = api.NASBench(\"nasbench_full.tfrecord\")"
   ]
  },
  {
   "cell_type": "code",
   "execution_count": null,
   "outputs": [],
   "source": [
    "INPUT = \"input\"\n",
    "OUTPUT = \"output\"\n",
    "CONV3X3 = \"conv3x3-bn-relu\"\n",
    "CONV1X1 = \"conv1x1-bn-relu\"\n",
    "MAXPOOL3X3 = \"maxpool3x3\"\n",
    "\n",
    "NUM_VERTICES = 7\n",
    "MAX_EDGES = 9\n",
    "\n",
    "EDGE_SPOTS = NUM_VERTICES * (NUM_VERTICES - 1) / 2  # Upper triangular matrix\n",
    "OP_SPOTS = NUM_VERTICES - 2  # Input/output vertices are fixed\n",
    "\n",
    "ALLOWED_OPS = [CONV3X3, CONV1X1, MAXPOOL3X3]\n",
    "ALLOWED_EDGES = [0, 1]  # Binary adjacency matrix\""
   ],
   "metadata": {
    "collapsed": false,
    "pycharm": {
     "name": "#%%\n"
    }
   }
  },
  {
   "cell_type": "code",
   "execution_count": 29,
   "outputs": [
    {
     "data": {
      "text/plain": "  0%|          | 0/423624 [00:00<?, ?it/s]",
      "application/vnd.jupyter.widget-view+json": {
       "version_major": 2,
       "version_minor": 0,
       "model_id": "17756a69dfbd410fa6ab3d0c05779083"
      }
     },
     "metadata": {},
     "output_type": "display_data"
    }
   ],
   "source": [
    "# query max accuracy model from dataset\n",
    "all_data = []\n",
    "for spec_hash in tqdm(nasbench.hash_iterator()):\n",
    "    data = []\n",
    "    results = nasbench.get_metrics_from_hash(spec_hash)\n",
    "    results = copy.deepcopy(results)\n",
    "\n",
    "    acc = results[1].get(108)\n",
    "    training_time = sum(map(lambda x: x['final_training_time'], acc))/3\n",
    "    train_accuracy = sum(map(lambda x: x['final_train_accuracy'], acc))/3\n",
    "    validation_accuracy = sum(map(lambda x: x['final_validation_accuracy'], acc))/3\n",
    "    test_accuracy = sum(map(lambda x: x['final_test_accuracy'], acc))/3\n",
    "\n",
    "    results = [\n",
    "        spec_hash,\n",
    "        results[0][\"trainable_parameters\"],\n",
    "        training_time,\n",
    "        train_accuracy,\n",
    "        validation_accuracy,\n",
    "        test_accuracy,\n",
    "    ]\n",
    "    all_data.append(results)"
   ],
   "metadata": {
    "collapsed": false,
    "pycharm": {
     "name": "#%%\n"
    }
   }
  },
  {
   "cell_type": "code",
   "execution_count": 30,
   "outputs": [],
   "source": [
    "df = pd.DataFrame(\n",
    "    all_data,\n",
    "    columns=[\n",
    "        \"Hash\",\n",
    "        \"Trainable Parameters\",\n",
    "        \"Training Time\",\n",
    "        \"Train Accuracy\",\n",
    "        \"Validation Accuracy\",\n",
    "        \"Test Accuracy\",\n",
    "    ],\n",
    ")"
   ],
   "metadata": {
    "collapsed": false,
    "pycharm": {
     "name": "#%%\n"
    }
   }
  },
  {
   "cell_type": "code",
   "execution_count": 31,
   "outputs": [
    {
     "data": {
      "text/plain": "Trainable Parameters    227274.000000\nTraining Time              284.500336\nTrain Accuracy               0.102197\nValidation Accuracy          0.094752\nTest Accuracy                0.099760\ndtype: float64"
     },
     "execution_count": 31,
     "metadata": {},
     "output_type": "execute_result"
    }
   ],
   "source": [
    "df._get_numeric_data().min()"
   ],
   "metadata": {
    "collapsed": false,
    "pycharm": {
     "name": "#%%\n"
    }
   }
  },
  {
   "cell_type": "code",
   "execution_count": 32,
   "outputs": [
    {
     "data": {
      "text/plain": "Trainable Parameters    4.997927e+07\nTraining Time           5.521803e+03\nTrain Accuracy          1.000000e+00\nValidation Accuracy     9.505542e-01\nTest Accuracy           9.431758e-01\ndtype: float64"
     },
     "execution_count": 32,
     "metadata": {},
     "output_type": "execute_result"
    }
   ],
   "source": [
    "df._get_numeric_data().max()"
   ],
   "metadata": {
    "collapsed": false,
    "pycharm": {
     "name": "#%%\n"
    }
   }
  },
  {
   "cell_type": "code",
   "execution_count": 33,
   "outputs": [
    {
     "data": {
      "text/plain": "Trainable Parameters    5.356682e+06\nTraining Time           1.560519e+03\nTrain Accuracy          9.999666e-01\nValidation Accuracy     9.123264e-01\nTest Accuracy           9.063836e-01\ndtype: float64"
     },
     "execution_count": 33,
     "metadata": {},
     "output_type": "execute_result"
    }
   ],
   "source": [
    "df._get_numeric_data().median()"
   ],
   "metadata": {
    "collapsed": false,
    "pycharm": {
     "name": "#%%\n"
    }
   }
  },
  {
   "cell_type": "code",
   "execution_count": 34,
   "outputs": [
    {
     "data": {
      "text/plain": "Trainable Parameters    8.459762e+06\nTraining Time           1.932403e+03\nTrain Accuracy          9.917610e-01\nValidation Accuracy     9.024339e-01\nTest Accuracy           8.967985e-01\ndtype: float64"
     },
     "execution_count": 34,
     "metadata": {},
     "output_type": "execute_result"
    }
   ],
   "source": [
    "df._get_numeric_data().mean()"
   ],
   "metadata": {
    "collapsed": false,
    "pycharm": {
     "name": "#%%\n"
    }
   }
  },
  {
   "cell_type": "code",
   "execution_count": 35,
   "outputs": [
    {
     "data": {
      "text/plain": "Trainable Parameters    8.558503e+06\nTraining Time           9.187951e+02\nTrain Accuracy          5.965972e-02\nValidation Accuracy     5.864747e-02\nTest Accuracy           5.799575e-02\ndtype: float64"
     },
     "execution_count": 35,
     "metadata": {},
     "output_type": "execute_result"
    }
   ],
   "source": [
    "df._get_numeric_data().std()"
   ],
   "metadata": {
    "collapsed": false,
    "pycharm": {
     "name": "#%%\n"
    }
   }
  },
  {
   "cell_type": "code",
   "execution_count": null,
   "outputs": [],
   "source": [],
   "metadata": {
    "collapsed": false,
    "pycharm": {
     "name": "#%%\n"
    }
   }
  }
 ],
 "metadata": {
  "kernelspec": {
   "display_name": "Python 3",
   "language": "python",
   "name": "python3"
  },
  "language_info": {
   "codemirror_mode": {
    "name": "ipython",
    "version": 2
   },
   "file_extension": ".py",
   "mimetype": "text/x-python",
   "name": "python",
   "nbconvert_exporter": "python",
   "pygments_lexer": "ipython2",
   "version": "2.7.6"
  }
 },
 "nbformat": 4,
 "nbformat_minor": 0
}