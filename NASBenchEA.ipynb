{
 "cells": [
  {
   "cell_type": "markdown",
   "source": [
    "Some of this code is Copyright 2019 Google LLC\n",
    "\n",
    "Licensed under the Apache License, Version 2.0 (the \"License\");\n",
    "you may not use this file except in compliance with the License.\n",
    "You may obtain a copy of the License at\n",
    "\n",
    "    https://www.apache.org/licenses/LICENSE-2.0\n",
    "\n",
    "Unless required by applicable law or agreed to in writing, software\n",
    "distributed under the License is distributed on an \"AS IS\" BASIS,\n",
    "WITHOUT WARRANTIES OR CONDITIONS OF ANY KIND, either express or implied.\n",
    "See the License for the specific language governing permissions and\n",
    "limitations under the License."
   ],
   "metadata": {
    "collapsed": false,
    "pycharm": {
     "name": "#%% md\n"
    }
   }
  },
  {
   "cell_type": "code",
   "execution_count": 4,
   "outputs": [],
   "source": [
    "# Uncomment the below line to download the dataset (approx. 2gb)\n",
    "# !curl -O https://storage.googleapis.com/nasbench/nasbench_full.tfrecord"
   ],
   "metadata": {
    "collapsed": false,
    "pycharm": {
     "name": "#%%\n"
    }
   }
  },
  {
   "cell_type": "code",
   "execution_count": 5,
   "outputs": [],
   "source": [
    "# Initialize the NASBench object which parses the raw data into memory\n",
    "# This may take a few minutes, about 2 on my machine\n",
    "from typing import Set\n",
    "\n",
    "import numpy as np\n",
    "import random\n",
    "\n",
    "import pandas as pd\n",
    "\n",
    "from nasbench import api\n",
    "from typing import List\n",
    "from nasbench.api import ModelSpec\n",
    "from dataclasses import dataclass\n",
    "from functools import lru_cache\n",
    "from tqdm.notebook import tqdm\n",
    "from IPython.display import clear_output"
   ],
   "metadata": {
    "collapsed": false,
    "pycharm": {
     "name": "#%%\n"
    }
   }
  },
  {
   "cell_type": "code",
   "execution_count": 6,
   "outputs": [
    {
     "name": "stdout",
     "output_type": "stream",
     "text": [
      "Loading dataset from file... This may take a few minutes...\n",
      "Loaded dataset in 118 seconds\n"
     ]
    }
   ],
   "source": [
    "nasbench = api.NASBench(\"nasbench_full.tfrecord\")"
   ],
   "metadata": {
    "collapsed": false,
    "pycharm": {
     "name": "#%%\n"
    }
   }
  },
  {
   "cell_type": "code",
   "execution_count": 31,
   "outputs": [],
   "source": [
    "INPUT = \"input\"\n",
    "OUTPUT = \"output\"\n",
    "CONV3X3 = \"conv3x3-bn-relu\"\n",
    "CONV1X1 = \"conv1x1-bn-relu\"\n",
    "MAXPOOL3X3 = \"maxpool3x3\"\n",
    "\n",
    "NUM_VERTICES = 7\n",
    "MAX_EDGES = 9\n",
    "\n",
    "EDGE_SPOTS = NUM_VERTICES * (NUM_VERTICES - 1) / 2  # Upper triangular matrix\n",
    "OP_SPOTS = NUM_VERTICES - 2  # Input/output vertices are fixed\n",
    "\n",
    "ALLOWED_OPS = [CONV3X3, CONV1X1, MAXPOOL3X3]\n",
    "ALLOWED_EDGES = [0, 1]  # Binary adjacency matrix\n",
    "\n",
    "RNG_SEED = 42"
   ],
   "metadata": {
    "collapsed": false,
    "pycharm": {
     "name": "#%%\n"
    }
   }
  },
  {
   "cell_type": "code",
   "execution_count": 8,
   "outputs": [],
   "source": [
    "@dataclass\n",
    "class ModelData:\n",
    "    \"\"\"\n",
    "    Wraps up resulting data from NASBench.query in a class for code cleanliness.\n",
    "    \"\"\"\n",
    "    hash: str\n",
    "    matrix: List[List[int]]\n",
    "    operations: List[str]\n",
    "    parameters: int\n",
    "    train_time: float\n",
    "    train_accuracy: float\n",
    "    valid_accuracy: float\n",
    "    test_accuracy: float\n",
    "\n",
    "\n",
    "class SpecWrapper(ModelSpec):\n",
    "    \"\"\"\n",
    "    Wraps a model to allow easier access to the resulting data of the model.\n",
    "    \"\"\"\n",
    "\n",
    "    def __lt__(self, other: \"SpecWrapper\"):\n",
    "        if not (isinstance(other, SpecWrapper)):\n",
    "            return False\n",
    "\n",
    "        return self.get_data().test_accuracy < other.get_data().test_accuracy\n",
    "\n",
    "    @lru_cache(maxsize=1)\n",
    "    def get_data(self):\n",
    "        \"\"\"\n",
    "        Get resultant data from NASBench.\n",
    "        The LRU cache ensures we don\"t add time to the budget counters multiple times.\n",
    "        :return:\n",
    "        \"\"\"\n",
    "        data = nasbench.query(self)\n",
    "        return ModelData(\n",
    "            self.hash_spec(nasbench.config[\"available_ops\"]),\n",
    "            data[\"module_adjacency\"],\n",
    "            data[\"module_operations\"],\n",
    "            data[\"trainable_parameters\"],\n",
    "            data[\"training_time\"],\n",
    "            data[\"train_accuracy\"],\n",
    "            data[\"validation_accuracy\"],\n",
    "            data[\"test_accuracy\"]\n",
    "        )\n",
    "\n",
    "    def __repr__(self):\n",
    "        return self.hash_spec(nasbench.config[\"available_ops\"])"
   ],
   "metadata": {
    "collapsed": false,
    "pycharm": {
     "name": "#%%\n"
    }
   }
  },
  {
   "cell_type": "code",
   "execution_count": 50,
   "outputs": [],
   "source": [
    "# we'll precache all the models for convenience of code later, then we don't have to build them at runtime\n",
    "# and can rely on the lru cache in the get_data method to not double up on queries. this way we don't have\n",
    "# to maintain a list of which models we have queried so far. this is a few hundred mb of ram, not significant\n",
    "def precache_specs():\n",
    "    n_specs = len(list(nasbench.hash_iterator()))\n",
    "    all_specs = tqdm(map(lambda x: nasbench.get_metrics_from_hash(x), nasbench.hash_iterator()), total=n_specs, unit='spec')\n",
    "    all_specs = [SpecWrapper(matrix=spec[0][\"module_adjacency\"], ops=spec[0][\"module_operations\"]) for spec in all_specs]\n",
    "    return all_specs"
   ],
   "metadata": {
    "collapsed": false,
    "pycharm": {
     "name": "#%%\n"
    }
   }
  },
  {
   "cell_type": "code",
   "execution_count": null,
   "outputs": [],
   "source": [
    "all_specs = precache_specs()"
   ],
   "metadata": {
    "collapsed": false,
    "pycharm": {
     "name": "#%%\n"
    }
   }
  },
  {
   "cell_type": "code",
   "execution_count": 51,
   "outputs": [],
   "source": [
    "def random_spec() -> SpecWrapper:\n",
    "    return random.choice(all_specs)"
   ],
   "metadata": {
    "collapsed": false,
    "pycharm": {
     "name": "#%%\n"
    }
   }
  },
  {
   "cell_type": "code",
   "execution_count": 47,
   "outputs": [],
   "source": [
    "def sel_best(population: List[SpecWrapper], k: int) -> List[SpecWrapper]:\n",
    "    \"\"\"\n",
    "    Select the top k candidates amongst the entire population.\n",
    "    :param population: The population to select from.\n",
    "    :param k: The number of top individuals to select.\n",
    "    :return: The selected individuals.\n",
    "    \"\"\"\n",
    "    # clone the list so we don't modify the passed list\n",
    "    population = list(population)\n",
    "    population.sort()\n",
    "    return population[-k:]\n",
    "\n",
    "\n",
    "def sel_random(population: List[SpecWrapper], k: int) -> List[SpecWrapper]:\n",
    "    \"\"\"\n",
    "    Select k individuals from the population at random.\n",
    "    :param population: The population to select from.\n",
    "    :param k: The number of individuals to select.\n",
    "    :return: The selected individuals.\n",
    "    \"\"\"\n",
    "    return random.sample(population, k)\n",
    "\n",
    "\n",
    "def sel_tournament(population: List[SpecWrapper], k: int, n: int) -> List[SpecWrapper]:\n",
    "    \"\"\"\n",
    "    Select the n best individuals from amongst k randomly selected candidates.\n",
    "    :param population: The population to select from.\n",
    "    :param k: The number of candidates to randomly select.\n",
    "    :param n: The number of top candidates to be returned.\n",
    "    :return: The selected individuals.\n",
    "    \"\"\"\n",
    "    candidates = sel_random(population, k)\n",
    "    return sel_best(candidates, n)\n",
    "\n",
    "\n",
    "def drop_worst(population: List[SpecWrapper], k: int) -> List[SpecWrapper]:\n",
    "    \"\"\"\n",
    "    Drop the k worst candidates and return the remaining population.\n",
    "    :param population: The population to drop from.\n",
    "    :param k: Number of worst candidates to drop.\n",
    "    \"\"\"\n",
    "    # clone the list so we don't modify the passed list\n",
    "    population = list(population)\n",
    "    population.sort()\n",
    "    return population[k:]\n",
    "\n"
   ],
   "metadata": {
    "collapsed": false,
    "pycharm": {
     "name": "#%%\n"
    }
   }
  },
  {
   "cell_type": "code",
   "execution_count": 26,
   "outputs": [],
   "source": [
    "def run_random_search(k: int, max_time: float):\n",
    "    \"\"\"\n",
    "    Runs a simulated random search for a fixed amount of time. Actual time taken will be\n",
    "    relatively quick, only the simulated time is considered. Will return all evaluated models,\n",
    "    along with the k best models found.\n",
    "    :param k: Number of best models to return\n",
    "    :param max_time_budget: The amount of simulated time to expend.\n",
    "    :return: All models evaluated, along with the best k models.\n",
    "    \"\"\"\n",
    "    # resetting seeds at the top of the search functions is required for reproducibility\n",
    "    np.random.seed(RNG_SEED)\n",
    "    random.seed(RNG_SEED)\n",
    "\n",
    "    # nasbench tracks time taken with each query, effectively simulating full\n",
    "    # training, as we can query how long into the training we would be if we\n",
    "    # were training ourselves. we reset the counters at the top of each experiment\n",
    "    nasbench.reset_budget_counters()\n",
    "\n",
    "    best: List[SpecWrapper] = []\n",
    "    models: List[SpecWrapper] = []\n",
    "    unique_hashes: Set[str] = set()\n",
    "    collisions: int = 0\n",
    "\n",
    "    time_spent, _ = nasbench.get_budget_counters()\n",
    "    while time_spent < max_time:\n",
    "        spec = random_spec()\n",
    "        spec_hash = spec.hash_spec(nasbench.config[\"available_ops\"])\n",
    "\n",
    "        if spec_hash in unique_hashes:\n",
    "            collisions += 1\n",
    "            continue\n",
    "        else:\n",
    "            unique_hashes.add(spec_hash)\n",
    "\n",
    "        models.append(spec)\n",
    "        best = sel_best(models, k)\n",
    "        time_spent, _ = nasbench.get_budget_counters()\n",
    "        clear_output(wait=True)\n",
    "        print(f\"{time_spent/1000:0.2f}/{max_time/1000:0.0f}k ({(time_spent/max_time)*100:0.2f}%) seconds simulated\")\n",
    "\n",
    "    print(f\"{len(unique_hashes)} unique models during random search.\")\n",
    "    print(f\"{collisions} collisions during random search.\")\n",
    "\n",
    "    return models, best\n",
    "\n"
   ],
   "metadata": {
    "collapsed": false,
    "pycharm": {
     "name": "#%%\n"
    }
   }
  },
  {
   "cell_type": "code",
   "execution_count": 30,
   "outputs": [
    {
     "name": "stdout",
     "output_type": "stream",
     "text": [
      "502534.95/500000k (100.51%) seconds simulated\n",
      "248 unique models during random search.\n",
      "0 collisions during random search.\n"
     ]
    }
   ],
   "source": [
    "all, best = run_random_search(10, 5e8)"
   ],
   "metadata": {
    "collapsed": false,
    "pycharm": {
     "name": "#%%\n"
    }
   }
  },
  {
   "cell_type": "code",
   "execution_count": 34,
   "outputs": [
    {
     "data": {
      "text/plain": "                                 hash  parameters   train_time  \\\n0    e07831948fdf884f89dc7eadd69c4592     5032842  1737.491943   \n1    5887b483c7eba6fb0e420a29f7007df2     1560375   976.177002   \n2    695db6c37f60c2fee65c073ba60a88ea     1749386   880.635986   \n3    8c0da3ffb5fc98ee51397f741b98ef1f    20510346  3132.138916   \n4    e6b06f0daa891a06fe96da1c6daad856     3831434  2292.532959   \n..                                ...         ...          ...   \n243  411f76b524a5cae02ac47d0e55209fb1    15037834  2688.839844   \n244  fd24de2c46bab257f6a756b7a319a9bb    38936714  4517.019043   \n245  6270d259a8dea747d3854e620c11b453    23295370  3486.271973   \n246  6a157e9ea9f72c8c24d7259ce97c7b1e    23131530  3474.256836   \n247  220d3ddac849eb7cd079405c7aaaccdf     8816266  1725.557007   \n\n     train_accuracy  valid_accuracy  test_accuracy  \n0          0.857772        0.780048       0.776042  \n1          0.933193        0.837340       0.827925  \n2          0.442508        0.430188       0.434796  \n3          0.995092        0.861378       0.851162  \n4          0.999099        0.856270       0.849059  \n..              ...             ...            ...  \n243        1.000000        0.940505       0.932191  \n244        1.000000        0.942408       0.934195  \n245        1.000000        0.935998       0.925080  \n246        1.000000        0.942608       0.938802  \n247        1.000000        0.941607       0.937400  \n\n[248 rows x 6 columns]",
      "text/html": "<div>\n<style scoped>\n    .dataframe tbody tr th:only-of-type {\n        vertical-align: middle;\n    }\n\n    .dataframe tbody tr th {\n        vertical-align: top;\n    }\n\n    .dataframe thead th {\n        text-align: right;\n    }\n</style>\n<table border=\"1\" class=\"dataframe\">\n  <thead>\n    <tr style=\"text-align: right;\">\n      <th></th>\n      <th>hash</th>\n      <th>parameters</th>\n      <th>train_time</th>\n      <th>train_accuracy</th>\n      <th>valid_accuracy</th>\n      <th>test_accuracy</th>\n    </tr>\n  </thead>\n  <tbody>\n    <tr>\n      <th>0</th>\n      <td>e07831948fdf884f89dc7eadd69c4592</td>\n      <td>5032842</td>\n      <td>1737.491943</td>\n      <td>0.857772</td>\n      <td>0.780048</td>\n      <td>0.776042</td>\n    </tr>\n    <tr>\n      <th>1</th>\n      <td>5887b483c7eba6fb0e420a29f7007df2</td>\n      <td>1560375</td>\n      <td>976.177002</td>\n      <td>0.933193</td>\n      <td>0.837340</td>\n      <td>0.827925</td>\n    </tr>\n    <tr>\n      <th>2</th>\n      <td>695db6c37f60c2fee65c073ba60a88ea</td>\n      <td>1749386</td>\n      <td>880.635986</td>\n      <td>0.442508</td>\n      <td>0.430188</td>\n      <td>0.434796</td>\n    </tr>\n    <tr>\n      <th>3</th>\n      <td>8c0da3ffb5fc98ee51397f741b98ef1f</td>\n      <td>20510346</td>\n      <td>3132.138916</td>\n      <td>0.995092</td>\n      <td>0.861378</td>\n      <td>0.851162</td>\n    </tr>\n    <tr>\n      <th>4</th>\n      <td>e6b06f0daa891a06fe96da1c6daad856</td>\n      <td>3831434</td>\n      <td>2292.532959</td>\n      <td>0.999099</td>\n      <td>0.856270</td>\n      <td>0.849059</td>\n    </tr>\n    <tr>\n      <th>...</th>\n      <td>...</td>\n      <td>...</td>\n      <td>...</td>\n      <td>...</td>\n      <td>...</td>\n      <td>...</td>\n    </tr>\n    <tr>\n      <th>243</th>\n      <td>411f76b524a5cae02ac47d0e55209fb1</td>\n      <td>15037834</td>\n      <td>2688.839844</td>\n      <td>1.000000</td>\n      <td>0.940505</td>\n      <td>0.932191</td>\n    </tr>\n    <tr>\n      <th>244</th>\n      <td>fd24de2c46bab257f6a756b7a319a9bb</td>\n      <td>38936714</td>\n      <td>4517.019043</td>\n      <td>1.000000</td>\n      <td>0.942408</td>\n      <td>0.934195</td>\n    </tr>\n    <tr>\n      <th>245</th>\n      <td>6270d259a8dea747d3854e620c11b453</td>\n      <td>23295370</td>\n      <td>3486.271973</td>\n      <td>1.000000</td>\n      <td>0.935998</td>\n      <td>0.925080</td>\n    </tr>\n    <tr>\n      <th>246</th>\n      <td>6a157e9ea9f72c8c24d7259ce97c7b1e</td>\n      <td>23131530</td>\n      <td>3474.256836</td>\n      <td>1.000000</td>\n      <td>0.942608</td>\n      <td>0.938802</td>\n    </tr>\n    <tr>\n      <th>247</th>\n      <td>220d3ddac849eb7cd079405c7aaaccdf</td>\n      <td>8816266</td>\n      <td>1725.557007</td>\n      <td>1.000000</td>\n      <td>0.941607</td>\n      <td>0.937400</td>\n    </tr>\n  </tbody>\n</table>\n<p>248 rows × 6 columns</p>\n</div>"
     },
     "execution_count": 34,
     "metadata": {},
     "output_type": "execute_result"
    }
   ],
   "source": [
    "adf = pd.DataFrame(list(map(lambda x: x.get_data(), all)))\n",
    "adf = adf.drop(columns=['matrix', 'operations'])\n",
    "adf"
   ],
   "metadata": {
    "collapsed": false,
    "pycharm": {
     "name": "#%%\n"
    }
   }
  },
  {
   "cell_type": "code",
   "execution_count": 35,
   "outputs": [
    {
     "data": {
      "text/plain": "                               hash  parameters   train_time  train_accuracy  \\\n0  c38f726827d319f5b746975edba7d84f     6054282  1440.531006             1.0   \n1  32084efa106310985249a333673b37b9     5476618  2349.081055             1.0   \n2  8ed16854745becfe5c80f810b5c8fd76    31552906  4166.227051             1.0   \n3  1023dc2082850a44a31c3516d5ed8560     8555530  1647.256958             1.0   \n4  43b5ec90010e9da3b678156d50d49838    24169098  3596.868164             1.0   \n5  411f76b524a5cae02ac47d0e55209fb1    15037834  2688.839844             1.0   \n6  fd24de2c46bab257f6a756b7a319a9bb    38936714  4517.982422             1.0   \n7  6270d259a8dea747d3854e620c11b453    23295370  3486.841797             1.0   \n8  6a157e9ea9f72c8c24d7259ce97c7b1e    23131530  3468.629883             1.0   \n9  220d3ddac849eb7cd079405c7aaaccdf     8816266  1724.791016             1.0   \n\n   valid_accuracy  test_accuracy  \n0        0.931991       0.928786  \n1        0.940905       0.931090  \n2        0.939503       0.930789  \n3        0.940204       0.933894  \n4        0.936999       0.934696  \n5        0.940505       0.932191  \n6        0.937600       0.932692  \n7        0.939103       0.932091  \n8        0.938301       0.935196  \n9        0.940104       0.936098  ",
      "text/html": "<div>\n<style scoped>\n    .dataframe tbody tr th:only-of-type {\n        vertical-align: middle;\n    }\n\n    .dataframe tbody tr th {\n        vertical-align: top;\n    }\n\n    .dataframe thead th {\n        text-align: right;\n    }\n</style>\n<table border=\"1\" class=\"dataframe\">\n  <thead>\n    <tr style=\"text-align: right;\">\n      <th></th>\n      <th>hash</th>\n      <th>parameters</th>\n      <th>train_time</th>\n      <th>train_accuracy</th>\n      <th>valid_accuracy</th>\n      <th>test_accuracy</th>\n    </tr>\n  </thead>\n  <tbody>\n    <tr>\n      <th>0</th>\n      <td>c38f726827d319f5b746975edba7d84f</td>\n      <td>6054282</td>\n      <td>1440.531006</td>\n      <td>1.0</td>\n      <td>0.931991</td>\n      <td>0.928786</td>\n    </tr>\n    <tr>\n      <th>1</th>\n      <td>32084efa106310985249a333673b37b9</td>\n      <td>5476618</td>\n      <td>2349.081055</td>\n      <td>1.0</td>\n      <td>0.940905</td>\n      <td>0.931090</td>\n    </tr>\n    <tr>\n      <th>2</th>\n      <td>8ed16854745becfe5c80f810b5c8fd76</td>\n      <td>31552906</td>\n      <td>4166.227051</td>\n      <td>1.0</td>\n      <td>0.939503</td>\n      <td>0.930789</td>\n    </tr>\n    <tr>\n      <th>3</th>\n      <td>1023dc2082850a44a31c3516d5ed8560</td>\n      <td>8555530</td>\n      <td>1647.256958</td>\n      <td>1.0</td>\n      <td>0.940204</td>\n      <td>0.933894</td>\n    </tr>\n    <tr>\n      <th>4</th>\n      <td>43b5ec90010e9da3b678156d50d49838</td>\n      <td>24169098</td>\n      <td>3596.868164</td>\n      <td>1.0</td>\n      <td>0.936999</td>\n      <td>0.934696</td>\n    </tr>\n    <tr>\n      <th>5</th>\n      <td>411f76b524a5cae02ac47d0e55209fb1</td>\n      <td>15037834</td>\n      <td>2688.839844</td>\n      <td>1.0</td>\n      <td>0.940505</td>\n      <td>0.932191</td>\n    </tr>\n    <tr>\n      <th>6</th>\n      <td>fd24de2c46bab257f6a756b7a319a9bb</td>\n      <td>38936714</td>\n      <td>4517.982422</td>\n      <td>1.0</td>\n      <td>0.937600</td>\n      <td>0.932692</td>\n    </tr>\n    <tr>\n      <th>7</th>\n      <td>6270d259a8dea747d3854e620c11b453</td>\n      <td>23295370</td>\n      <td>3486.841797</td>\n      <td>1.0</td>\n      <td>0.939103</td>\n      <td>0.932091</td>\n    </tr>\n    <tr>\n      <th>8</th>\n      <td>6a157e9ea9f72c8c24d7259ce97c7b1e</td>\n      <td>23131530</td>\n      <td>3468.629883</td>\n      <td>1.0</td>\n      <td>0.938301</td>\n      <td>0.935196</td>\n    </tr>\n    <tr>\n      <th>9</th>\n      <td>220d3ddac849eb7cd079405c7aaaccdf</td>\n      <td>8816266</td>\n      <td>1724.791016</td>\n      <td>1.0</td>\n      <td>0.940104</td>\n      <td>0.936098</td>\n    </tr>\n  </tbody>\n</table>\n</div>"
     },
     "execution_count": 35,
     "metadata": {},
     "output_type": "execute_result"
    }
   ],
   "source": [
    "bdf = pd.DataFrame(list(map(lambda x: x.get_data(), best)))\n",
    "bdf = bdf.drop(columns=['matrix', 'operations'])\n",
    "bdf"
   ],
   "metadata": {
    "collapsed": false,
    "pycharm": {
     "name": "#%%\n"
    }
   }
  },
  {
   "cell_type": "code",
   "execution_count": null,
   "outputs": [],
   "source": [
    "all_specs = precache_specs()"
   ],
   "metadata": {
    "collapsed": false,
    "pycharm": {
     "name": "#%%\n"
    }
   }
  },
  {
   "cell_type": "code",
   "execution_count": 38,
   "outputs": [],
   "source": [
    "def run_evolutionary_search(max_time: float, pop_size: int):\n",
    "    # resetting seeds at the top of the search functions is required for reproducibility\n",
    "    np.random.seed(RNG_SEED)\n",
    "    random.seed(RNG_SEED)\n",
    "\n",
    "    # nasbench tracks time taken with each query, effectively simulating full\n",
    "    # training, as we can query how long into the training we would be if we\n",
    "    # were training ourselves. we reset the counters at the top of each experiment\n",
    "    nasbench.reset_budget_counters()\n",
    "\n",
    "    population = sel_random(all_specs, pop_size)\n",
    "    [p.get_data() for p in population] # update nasbench budgets\n",
    "\n",
    "    time_spent, _ = nasbench.get_budget_counters()\n",
    "    while time_spent < max_time:\n",
    "\n",
    "        time_spent, _ = nasbench.get_budget_counters()\n",
    "\n",
    "    return population, population\n",
    "\n",
    "all, best = run_evolutionary_search(0, 10)"
   ],
   "metadata": {
    "collapsed": false,
    "pycharm": {
     "name": "#%%\n"
    }
   }
  },
  {
   "cell_type": "code",
   "execution_count": 42,
   "outputs": [],
   "source": [
    "all.sort()\n",
    "best.sort()"
   ],
   "metadata": {
    "collapsed": false,
    "pycharm": {
     "name": "#%%\n"
    }
   }
  },
  {
   "cell_type": "code",
   "execution_count": 48,
   "outputs": [],
   "source": [
    "all = drop_worst(best, 1)"
   ],
   "metadata": {
    "collapsed": false,
    "pycharm": {
     "name": "#%%\n"
    }
   }
  },
  {
   "cell_type": "code",
   "execution_count": 49,
   "outputs": [
    {
     "data": {
      "text/plain": "                               hash  parameters   train_time  train_accuracy  \\\n0  2c60a08cadca7764ded5291311d4ec60     3031562  1015.057007        0.997196   \n1  46a057f9756748a3d5546b05c6bb137f     4705162  2500.507812        1.000000   \n2  e96ce68c5c2fb2a34f9550fc043a3e75     2773816  1246.448975        0.999900   \n3  eafd21c3ca59ad9a72f637cda520e4c1    21547914  3183.962891        1.000000   \n4  20b076959685b524b832ffac1ddc9fdd     3694666  1249.853027        1.000000   \n5  cab83eedfd66bc3c48028cc7cd519c4f     3468426  1250.864990        1.000000   \n6  573d39c8e8c80005bdf2d700a49e08ed     4166026  2026.727051        0.999900   \n7  4d9b210d90d8326eb22188475109a784     4849361  1423.867920        1.000000   \n8  2379bf5524680737ba048a046950bfdc    41721738  4713.012695        1.000000   \n\n   valid_accuracy  test_accuracy  \n0        0.873698       0.863482  \n1        0.891126       0.888722  \n2        0.904748       0.897636  \n3        0.904547       0.901142  \n4        0.919872       0.915264  \n5        0.928285       0.917668  \n6        0.930389       0.923177  \n7        0.927985       0.921875  \n8        0.942708       0.939002  ",
      "text/html": "<div>\n<style scoped>\n    .dataframe tbody tr th:only-of-type {\n        vertical-align: middle;\n    }\n\n    .dataframe tbody tr th {\n        vertical-align: top;\n    }\n\n    .dataframe thead th {\n        text-align: right;\n    }\n</style>\n<table border=\"1\" class=\"dataframe\">\n  <thead>\n    <tr style=\"text-align: right;\">\n      <th></th>\n      <th>hash</th>\n      <th>parameters</th>\n      <th>train_time</th>\n      <th>train_accuracy</th>\n      <th>valid_accuracy</th>\n      <th>test_accuracy</th>\n    </tr>\n  </thead>\n  <tbody>\n    <tr>\n      <th>0</th>\n      <td>2c60a08cadca7764ded5291311d4ec60</td>\n      <td>3031562</td>\n      <td>1015.057007</td>\n      <td>0.997196</td>\n      <td>0.873698</td>\n      <td>0.863482</td>\n    </tr>\n    <tr>\n      <th>1</th>\n      <td>46a057f9756748a3d5546b05c6bb137f</td>\n      <td>4705162</td>\n      <td>2500.507812</td>\n      <td>1.000000</td>\n      <td>0.891126</td>\n      <td>0.888722</td>\n    </tr>\n    <tr>\n      <th>2</th>\n      <td>e96ce68c5c2fb2a34f9550fc043a3e75</td>\n      <td>2773816</td>\n      <td>1246.448975</td>\n      <td>0.999900</td>\n      <td>0.904748</td>\n      <td>0.897636</td>\n    </tr>\n    <tr>\n      <th>3</th>\n      <td>eafd21c3ca59ad9a72f637cda520e4c1</td>\n      <td>21547914</td>\n      <td>3183.962891</td>\n      <td>1.000000</td>\n      <td>0.904547</td>\n      <td>0.901142</td>\n    </tr>\n    <tr>\n      <th>4</th>\n      <td>20b076959685b524b832ffac1ddc9fdd</td>\n      <td>3694666</td>\n      <td>1249.853027</td>\n      <td>1.000000</td>\n      <td>0.919872</td>\n      <td>0.915264</td>\n    </tr>\n    <tr>\n      <th>5</th>\n      <td>cab83eedfd66bc3c48028cc7cd519c4f</td>\n      <td>3468426</td>\n      <td>1250.864990</td>\n      <td>1.000000</td>\n      <td>0.928285</td>\n      <td>0.917668</td>\n    </tr>\n    <tr>\n      <th>6</th>\n      <td>573d39c8e8c80005bdf2d700a49e08ed</td>\n      <td>4166026</td>\n      <td>2026.727051</td>\n      <td>0.999900</td>\n      <td>0.930389</td>\n      <td>0.923177</td>\n    </tr>\n    <tr>\n      <th>7</th>\n      <td>4d9b210d90d8326eb22188475109a784</td>\n      <td>4849361</td>\n      <td>1423.867920</td>\n      <td>1.000000</td>\n      <td>0.927985</td>\n      <td>0.921875</td>\n    </tr>\n    <tr>\n      <th>8</th>\n      <td>2379bf5524680737ba048a046950bfdc</td>\n      <td>41721738</td>\n      <td>4713.012695</td>\n      <td>1.000000</td>\n      <td>0.942708</td>\n      <td>0.939002</td>\n    </tr>\n  </tbody>\n</table>\n</div>"
     },
     "execution_count": 49,
     "metadata": {},
     "output_type": "execute_result"
    }
   ],
   "source": [
    "adf = pd.DataFrame(list(map(lambda x: x.get_data(), all)))\n",
    "adf = adf.drop(columns=['matrix', 'operations'])\n",
    "adf"
   ],
   "metadata": {
    "collapsed": false,
    "pycharm": {
     "name": "#%%\n"
    }
   }
  },
  {
   "cell_type": "code",
   "execution_count": 44,
   "outputs": [
    {
     "data": {
      "text/plain": "                               hash  parameters   train_time  train_accuracy  \\\n0  07e222992d9a0a54e18ae21a61fa97b3     5906570  1947.873047        0.999399   \n1  2c60a08cadca7764ded5291311d4ec60     3031562  1014.238037        0.998598   \n2  46a057f9756748a3d5546b05c6bb137f     4705162  2501.747070        1.000000   \n3  e96ce68c5c2fb2a34f9550fc043a3e75     2773816  1243.066040        0.999800   \n4  eafd21c3ca59ad9a72f637cda520e4c1    21547914  3174.112793        1.000000   \n5  20b076959685b524b832ffac1ddc9fdd     3694666  1249.853027        1.000000   \n6  cab83eedfd66bc3c48028cc7cd519c4f     3468426  1247.676025        1.000000   \n7  573d39c8e8c80005bdf2d700a49e08ed     4166026  2023.040039        1.000000   \n8  4d9b210d90d8326eb22188475109a784     4849361  1423.867920        1.000000   \n9  2379bf5524680737ba048a046950bfdc    41721738  4713.345703        1.000000   \n\n   valid_accuracy  test_accuracy  \n0        0.840645       0.839543  \n1        0.878105       0.871795  \n2        0.892528       0.888321  \n3        0.906050       0.895533  \n4        0.915164       0.910557  \n5        0.919872       0.915264  \n6        0.921374       0.919872  \n7        0.926182       0.919571  \n8        0.927985       0.921875  \n9        0.944111       0.938201  ",
      "text/html": "<div>\n<style scoped>\n    .dataframe tbody tr th:only-of-type {\n        vertical-align: middle;\n    }\n\n    .dataframe tbody tr th {\n        vertical-align: top;\n    }\n\n    .dataframe thead th {\n        text-align: right;\n    }\n</style>\n<table border=\"1\" class=\"dataframe\">\n  <thead>\n    <tr style=\"text-align: right;\">\n      <th></th>\n      <th>hash</th>\n      <th>parameters</th>\n      <th>train_time</th>\n      <th>train_accuracy</th>\n      <th>valid_accuracy</th>\n      <th>test_accuracy</th>\n    </tr>\n  </thead>\n  <tbody>\n    <tr>\n      <th>0</th>\n      <td>07e222992d9a0a54e18ae21a61fa97b3</td>\n      <td>5906570</td>\n      <td>1947.873047</td>\n      <td>0.999399</td>\n      <td>0.840645</td>\n      <td>0.839543</td>\n    </tr>\n    <tr>\n      <th>1</th>\n      <td>2c60a08cadca7764ded5291311d4ec60</td>\n      <td>3031562</td>\n      <td>1014.238037</td>\n      <td>0.998598</td>\n      <td>0.878105</td>\n      <td>0.871795</td>\n    </tr>\n    <tr>\n      <th>2</th>\n      <td>46a057f9756748a3d5546b05c6bb137f</td>\n      <td>4705162</td>\n      <td>2501.747070</td>\n      <td>1.000000</td>\n      <td>0.892528</td>\n      <td>0.888321</td>\n    </tr>\n    <tr>\n      <th>3</th>\n      <td>e96ce68c5c2fb2a34f9550fc043a3e75</td>\n      <td>2773816</td>\n      <td>1243.066040</td>\n      <td>0.999800</td>\n      <td>0.906050</td>\n      <td>0.895533</td>\n    </tr>\n    <tr>\n      <th>4</th>\n      <td>eafd21c3ca59ad9a72f637cda520e4c1</td>\n      <td>21547914</td>\n      <td>3174.112793</td>\n      <td>1.000000</td>\n      <td>0.915164</td>\n      <td>0.910557</td>\n    </tr>\n    <tr>\n      <th>5</th>\n      <td>20b076959685b524b832ffac1ddc9fdd</td>\n      <td>3694666</td>\n      <td>1249.853027</td>\n      <td>1.000000</td>\n      <td>0.919872</td>\n      <td>0.915264</td>\n    </tr>\n    <tr>\n      <th>6</th>\n      <td>cab83eedfd66bc3c48028cc7cd519c4f</td>\n      <td>3468426</td>\n      <td>1247.676025</td>\n      <td>1.000000</td>\n      <td>0.921374</td>\n      <td>0.919872</td>\n    </tr>\n    <tr>\n      <th>7</th>\n      <td>573d39c8e8c80005bdf2d700a49e08ed</td>\n      <td>4166026</td>\n      <td>2023.040039</td>\n      <td>1.000000</td>\n      <td>0.926182</td>\n      <td>0.919571</td>\n    </tr>\n    <tr>\n      <th>8</th>\n      <td>4d9b210d90d8326eb22188475109a784</td>\n      <td>4849361</td>\n      <td>1423.867920</td>\n      <td>1.000000</td>\n      <td>0.927985</td>\n      <td>0.921875</td>\n    </tr>\n    <tr>\n      <th>9</th>\n      <td>2379bf5524680737ba048a046950bfdc</td>\n      <td>41721738</td>\n      <td>4713.345703</td>\n      <td>1.000000</td>\n      <td>0.944111</td>\n      <td>0.938201</td>\n    </tr>\n  </tbody>\n</table>\n</div>"
     },
     "execution_count": 44,
     "metadata": {},
     "output_type": "execute_result"
    }
   ],
   "source": [
    "bdf = pd.DataFrame(list(map(lambda x: x.get_data(), best)))\n",
    "bdf = bdf.drop(columns=['matrix', 'operations'])\n",
    "bdf"
   ],
   "metadata": {
    "collapsed": false,
    "pycharm": {
     "name": "#%%\n"
    }
   }
  },
  {
   "cell_type": "code",
   "execution_count": null,
   "outputs": [],
   "source": [],
   "metadata": {
    "collapsed": false,
    "pycharm": {
     "name": "#%%\n"
    }
   }
  }
 ],
 "metadata": {
  "kernelspec": {
   "display_name": "Python 3",
   "language": "python",
   "name": "python3"
  },
  "language_info": {
   "codemirror_mode": {
    "name": "ipython",
    "version": 2
   },
   "file_extension": ".py",
   "mimetype": "text/x-python",
   "name": "python",
   "nbconvert_exporter": "python",
   "pygments_lexer": "ipython2",
   "version": "2.7.6"
  }
 },
 "nbformat": 4,
 "nbformat_minor": 0
}