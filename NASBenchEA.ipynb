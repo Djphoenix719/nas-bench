{
 "cells": [
  {
   "cell_type": "code",
   "execution_count": null,
   "outputs": [],
   "source": [
    "# Uncomment the below line to download the dataset (approx. 2gb)\n",
    "# !curl -O https://storage.googleapis.com/nasbench/nasbench_full.tfrecord\",\n",
    "# Initialize the NASBench object which parses the raw data into memory\n",
    "# This may take a few minutes, about 2 on my machine\n",
    "import copy\n",
    "import numpy as np\n",
    "import random\n",
    "from nasbench import api\n",
    "from typing import List\n",
    "from nasbench.api import ModelSpec\n",
    "from dataclasses import dataclass\n",
    "from functools import lru_cache\n",
    "from tqdm.notebook import tqdm"
   ],
   "metadata": {
    "collapsed": false,
    "pycharm": {
     "name": "#%%\n"
    }
   }
  },
  {
   "cell_type": "code",
   "execution_count": null,
   "outputs": [],
   "source": [
    "nasbench = api.NASBench(\"nasbench_full.tfrecord\")"
   ],
   "metadata": {
    "collapsed": false,
    "pycharm": {
     "name": "#%%\n"
    }
   }
  },
  {
   "cell_type": "code",
   "execution_count": null,
   "outputs": [],
   "source": [
    "INPUT = \"input\"\n",
    "OUTPUT = \"output\"\n",
    "CONV3X3 = \"conv3x3-bn-relu\"\n",
    "CONV1X1 = \"conv1x1-bn-relu\"\n",
    "MAXPOOL3X3 = \"maxpool3x3\"\n",
    "\n",
    "NUM_VERTICES = 7\n",
    "MAX_EDGES = 9\n",
    "\n",
    "EDGE_SPOTS = NUM_VERTICES * (NUM_VERTICES - 1) / 2  # Upper triangular matrix\n",
    "OP_SPOTS = NUM_VERTICES - 2  # Input/output vertices are fixed\n",
    "\n",
    "ALLOWED_OPS = [CONV3X3, CONV1X1, MAXPOOL3X3]\n",
    "ALLOWED_EDGES = [0, 1]  # Binary adjacency matrix\n",
    "\n",
    "RNG_SEED = 42"
   ],
   "metadata": {
    "collapsed": false,
    "pycharm": {
     "name": "#%%\n"
    }
   }
  },
  {
   "cell_type": "code",
   "execution_count": null,
   "outputs": [],
   "source": [
    "@dataclass\n",
    "class ModelData:\n",
    "    \"\"\"\n",
    "    Wraps up resulting data from NASBench.query in a class for code cleanliness.\n",
    "    \"\"\"\n",
    "    matrix: List[List[int]]\n",
    "    operations: List[str]\n",
    "    parameters: int\n",
    "    train_time: float\n",
    "    train_accuracy: float\n",
    "    valid_accuracy: float\n",
    "    test_accuracy: float\n",
    "\n",
    "\n",
    "class SpecWrapper(ModelSpec):\n",
    "    \"\"\"\n",
    "    Wraps a model to allow easier access to the resulting data of the model.\n",
    "    \"\"\"\n",
    "\n",
    "    def __lt__(self, other: \"SpecWrapper\"):\n",
    "        if not (isinstance(other, SpecWrapper)):\n",
    "            return False\n",
    "\n",
    "        return self.get_data().test_accuracy < other.get_data().test_accuracy\n",
    "\n",
    "    @lru_cache(maxsize=1)\n",
    "    def get_data(self):\n",
    "        \"\"\"\n",
    "        Get resultant data from NASBench.\n",
    "        The LRU cache ensures we don\"t add time to the budget counters multiple times.\n",
    "        :return:\n",
    "        \"\"\"\n",
    "        data = nasbench.query(self)\n",
    "        return ModelData(\n",
    "            data[\"module_adjacency\"],\n",
    "            data[\"module_operations\"],\n",
    "            data[\"trainable_parameters\"],\n",
    "            data[\"training_time\"],\n",
    "            data[\"train_accuracy\"],\n",
    "            data[\"validation_accuracy\"],\n",
    "            data[\"test_accuracy\"]\n",
    "        )\n",
    "\n",
    "    def __repr__(self):\n",
    "        return self.hash_spec(nasbench.config[\"available_ops\"])"
   ],
   "metadata": {
    "collapsed": false,
    "pycharm": {
     "name": "#%%\n"
    }
   }
  },
  {
   "cell_type": "code",
   "execution_count": null,
   "outputs": [],
   "source": [
    "n_specs = len(list(nasbench.hash_iterator()))\n",
    "all_specs = tqdm(map(lambda x: nasbench.get_metrics_from_hash(x), nasbench.hash_iterator()), total=n_specs)\n",
    "all_specs = [SpecWrapper(matrix=spec[0][\"module_adjacency\"], ops=spec[0][\"module_operations\"]) for spec in all_specs]"
   ],
   "metadata": {
    "collapsed": false,
    "pycharm": {
     "name": "#%%\n"
    }
   }
  },
  {
   "cell_type": "code",
   "execution_count": null,
   "outputs": [],
   "source": [
    "def random_spec() -> SpecWrapper:\n",
    "    return random.choice(all_specs)"
   ],
   "metadata": {
    "collapsed": false,
    "pycharm": {
     "name": "#%%\n"
    }
   }
  },
  {
   "cell_type": "code",
   "execution_count": null,
   "outputs": [],
   "source": [
    "def sel_best(population: List[SpecWrapper], k: int) -> List[SpecWrapper]:\n",
    "    \"\"\"\n",
    "    Select the top k candidates amongst the entire population.\n",
    "    :param population: The population to select from.\n",
    "    :param k: The number of top individuals to select.\n",
    "    :return: The selected individuals.\n",
    "    \"\"\"\n",
    "    population.sort()\n",
    "    return population[-k:]\n",
    "\n",
    "\n",
    "def sel_random(population: List[SpecWrapper], k: int) -> List[SpecWrapper]:\n",
    "    \"\"\"\n",
    "    Select k individuals from the population at random.\n",
    "    :param population: The population to select from.\n",
    "    :param k: The number of individuals to select.\n",
    "    :return: The selected individuals.\n",
    "    \"\"\"\n",
    "    return random.sample(population, k)\n",
    "\n",
    "\n",
    "def sel_tournament(population: List[SpecWrapper], k: int, n: int) -> List[SpecWrapper]:\n",
    "    \"\"\"\n",
    "    Select the n best individuals from amongst k randomly selected candidates.\n",
    "    :param population: The population to select from.\n",
    "    :param k: The number of candidates to randomly select.\n",
    "    :param n: The number of top candidates to be returned.\n",
    "    :return: The selected individuals.\n",
    "    \"\"\"\n",
    "    candidates = sel_random(population, k)\n",
    "    return sel_best(candidates, n)"
   ],
   "metadata": {
    "collapsed": false,
    "pycharm": {
     "name": "#%%\n"
    }
   }
  },
  {
   "cell_type": "code",
   "execution_count": null,
   "outputs": [],
   "source": [
    "def run_random_search(k: int, max_time: float):\n",
    "    \"\"\"\n",
    "    Runs a simulated random search for a fixed amount of time. Actual time taken will be\n",
    "    relatively quick, only the simulated time is considered. Will return all evaluated models,\n",
    "    along with the k best models found.\n",
    "    :param k: Number of best models to return\n",
    "    :param max_time_budget: The amount of simulated time to expend.\n",
    "    :return: All models evaluated, along with the best k models.\n",
    "    \"\"\"\n",
    "\n",
    "    # nasbench tracks time taken with each query, effectively simulating full\n",
    "    # training, as we can query how long into the training we would be if we\n",
    "    # were training ourselves. we reset the counters at the top of each experiment\n",
    "    np.random.seed(RNG_SEED)\n",
    "    random.seed(RNG_SEED)\n",
    "    nasbench.reset_budget_counters()\n",
    "\n",
    "    best: List[SpecWrapper] = []\n",
    "    models: List[SpecWrapper] = []\n",
    "    unique_hashes: List[str] = []\n",
    "    collisions: int = 0\n",
    "\n",
    "    time_spent, _ = nasbench.get_budget_counters()\n",
    "    while time_spent < max_time:\n",
    "        last_time = time_spent\n",
    "        spec = random_spec()\n",
    "        spec_hash = spec.hash_spec(nasbench.config[\"available_ops\"])\n",
    "        assert time_spent == last_time\n",
    "\n",
    "        if spec_hash in unique_hashes:\n",
    "            collisions += 1\n",
    "            continue\n",
    "        else:\n",
    "            unique_hashes.append(spec_hash)\n",
    "\n",
    "        models.append(spec)\n",
    "        best = sel_best(models, k)\n",
    "        time_spent, _ = nasbench.get_budget_counters()\n",
    "\n",
    "    print(f\"{len(unique_hashes)} unique models during random search.\")\n",
    "    print(f\"{collisions} collisions during random search.\")\n",
    "\n",
    "    return models, best"
   ],
   "metadata": {
    "collapsed": false,
    "pycharm": {
     "name": "#%%\n"
    }
   }
  },
  {
   "cell_type": "code",
   "execution_count": null,
   "outputs": [],
   "source": [
    "all, best = run_random_search(10, 5e8)"
   ],
   "metadata": {
    "collapsed": false,
    "pycharm": {
     "name": "#%%\n"
    }
   }
  }
 ],
 "metadata": {
  "kernelspec": {
   "display_name": "Python 3",
   "language": "python",
   "name": "python3"
  },
  "language_info": {
   "codemirror_mode": {
    "name": "ipython",
    "version": 2
   },
   "file_extension": ".py",
   "mimetype": "text/x-python",
   "name": "python",
   "nbconvert_exporter": "python",
   "pygments_lexer": "ipython2",
   "version": "2.7.6"
  },
  "pycharm": {
   "stem_cell": {
    "cell_type": "raw",
    "source": [
     "#md\n",
     "Some of this code is Copyright 2019 Google LLC\n",
     "\n",
     "Licensed under the Apache License, Version 2.0 (the \"License\");\n",
     "you may not use this file except in compliance with the License.\n",
     "You may obtain a copy of the License at\n",
     "\n",
     "    https://www.apache.org/licenses/LICENSE-2.0\n",
     "\n",
     "Unless required by applicable law or agreed to in writing, software\n",
     "distributed under the License is distributed on an \"AS IS\" BASIS,\n",
     "WITHOUT WARRANTIES OR CONDITIONS OF ANY KIND, either express or implied.\n",
     "See the License for the specific language governing permissions and\n",
     "limitations under the License."
    ],
    "metadata": {
     "collapsed": false
    }
   }
  }
 },
 "nbformat": 4,
 "nbformat_minor": 0
}