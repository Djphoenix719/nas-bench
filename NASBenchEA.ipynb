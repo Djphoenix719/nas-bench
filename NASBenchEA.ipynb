{
 "cells": [
  {
   "cell_type": "markdown",
   "source": [
    "Some of this code is Copyright 2019 Google LLC\n",
    "\n",
    "Licensed under the Apache License, Version 2.0 (the \"License\");\n",
    "you may not use this file except in compliance with the License.\n",
    "You may obtain a copy of the License at\n",
    "\n",
    "    https://www.apache.org/licenses/LICENSE-2.0\n",
    "\n",
    "Unless required by applicable law or agreed to in writing, software\n",
    "distributed under the License is distributed on an \"AS IS\" BASIS,\n",
    "WITHOUT WARRANTIES OR CONDITIONS OF ANY KIND, either express or implied.\n",
    "See the License for the specific language governing permissions and\n",
    "limitations under the License."
   ],
   "metadata": {
    "collapsed": false,
    "pycharm": {
     "name": "#%% md\n"
    }
   }
  },
  {
   "cell_type": "code",
   "execution_count": 3,
   "outputs": [],
   "source": [
    "# Uncomment the below line to download the dataset (approx. 2gb)\n",
    "# !curl -O https://storage.googleapis.com/nasbench/nasbench_full.tfrecord"
   ],
   "metadata": {
    "collapsed": false,
    "pycharm": {
     "name": "#%%\n"
    }
   }
  },
  {
   "cell_type": "code",
   "execution_count": 4,
   "outputs": [],
   "source": [
    "# Initialize the NASBench object which parses the raw data into memory\n",
    "# This may take a few minutes, about 2 on my machine\n",
    "import copy\n",
    "import math\n",
    "import random\n",
    "import numpy as np\n",
    "import pandas as pd\n",
    "from nasbench import api\n",
    "from typing import List, Set, Union\n",
    "from nasbench.api import ModelSpec\n",
    "from dataclasses import dataclass\n",
    "from functools import lru_cache\n",
    "from IPython.display import clear_output"
   ],
   "metadata": {
    "collapsed": false,
    "pycharm": {
     "name": "#%%\n"
    }
   }
  },
  {
   "cell_type": "code",
   "execution_count": 5,
   "outputs": [
    {
     "name": "stdout",
     "output_type": "stream",
     "text": [
      "Loading dataset from file... This may take a few minutes...\n",
      "WARNING:tensorflow:From d:\\nas-bench\\venv\\lib\\site-packages\\nasbench\\api.py:146: tf_record_iterator (from tensorflow.python.lib.io.tf_record) is deprecated and will be removed in a future version.\n",
      "Instructions for updating:\n",
      "Use eager execution and: \n",
      "`tf.data.TFRecordDataset(path)`\n",
      "Loaded dataset in 126 seconds\n"
     ]
    }
   ],
   "source": [
    "nasbench = api.NASBench(\"nasbench_full.tfrecord\")"
   ],
   "metadata": {
    "collapsed": false,
    "pycharm": {
     "name": "#%%\n"
    }
   }
  },
  {
   "cell_type": "code",
   "execution_count": 6,
   "outputs": [],
   "source": [
    "INPUT = \"input\"\n",
    "OUTPUT = \"output\"\n",
    "CONV3X3 = \"conv3x3-bn-relu\"\n",
    "CONV1X1 = \"conv1x1-bn-relu\"\n",
    "MAXPOOL3X3 = \"maxpool3x3\"\n",
    "\n",
    "NUM_VERTICES = 7\n",
    "MAX_EDGES = 9\n",
    "\n",
    "EDGE_SPOTS = NUM_VERTICES * (NUM_VERTICES - 1) / 2  # Upper triangular matrix\n",
    "OP_SPOTS = NUM_VERTICES - 2  # Input/output vertices are fixed\n",
    "\n",
    "ALLOWED_OPS = [CONV3X3, CONV1X1, MAXPOOL3X3]\n",
    "ALLOWED_EDGES = [0, 1]  # Binary adjacency matrix\n",
    "\n",
    "RNG_SEED = 42"
   ],
   "metadata": {
    "collapsed": false,
    "pycharm": {
     "name": "#%%\n"
    }
   }
  },
  {
   "cell_type": "code",
   "execution_count": 7,
   "outputs": [],
   "source": [
    "@dataclass\n",
    "class ModelData:\n",
    "    \"\"\"\n",
    "    Wraps up resulting data from NASBench.query in a class for code cleanliness.\n",
    "    \"\"\"\n",
    "    hash: str\n",
    "    matrix: List[List[int]]\n",
    "    operations: List[str]\n",
    "    parameters: int\n",
    "    train_time: float\n",
    "    train_accuracy: float\n",
    "    valid_accuracy: float\n",
    "    test_accuracy: float\n",
    "\n",
    "\n",
    "class SpecWrapper(ModelSpec):\n",
    "    \"\"\"\n",
    "    Wraps a model to allow easier access to the resulting data of the model.\n",
    "    \"\"\"\n",
    "    def __init__(self, matrix: Union[str, np.ndarray], ops: List[str] = None):\n",
    "        if isinstance(matrix, str):\n",
    "            spec = nasbench.get_metrics_from_hash(matrix)\n",
    "            matrix: np.ndarray = spec[0][\"module_adjacency\"]\n",
    "            ops = spec[0][\"module_operations\"]\n",
    "            super().__init__(matrix, ops)\n",
    "        else:\n",
    "            assert ops is not None\n",
    "            super().__init__(matrix, ops)\n",
    "\n",
    "    def __lt__(self, other: \"SpecWrapper\"):\n",
    "        if not (isinstance(other, SpecWrapper)):\n",
    "            return False\n",
    "\n",
    "        return self.get_data().test_accuracy < other.get_data().test_accuracy\n",
    "\n",
    "    def get_hash(self):\n",
    "        return self.hash_spec(nasbench.config[\"available_ops\"])\n",
    "\n",
    "    @lru_cache(maxsize=1)\n",
    "    def get_data(self):\n",
    "        \"\"\"\n",
    "        Get resultant data from NASBench.\n",
    "        The LRU cache ensures we don\"t add time to the budget counters multiple times.\n",
    "        :return:\n",
    "        \"\"\"\n",
    "        data = nasbench.query(self)\n",
    "        return ModelData(\n",
    "            self.hash_spec(nasbench.config[\"available_ops\"]),\n",
    "            data[\"module_adjacency\"],\n",
    "            data[\"module_operations\"],\n",
    "            data[\"trainable_parameters\"],\n",
    "            data[\"training_time\"],\n",
    "            data[\"train_accuracy\"],\n",
    "            data[\"validation_accuracy\"],\n",
    "            data[\"test_accuracy\"]\n",
    "        )\n",
    "\n",
    "    def __repr__(self):\n",
    "        return self.get_hash()"
   ],
   "metadata": {
    "collapsed": false,
    "pycharm": {
     "name": "#%%\n"
    }
   }
  },
  {
   "cell_type": "code",
   "execution_count": 8,
   "outputs": [],
   "source": [
    "all_specs = list(nasbench.hash_iterator())"
   ],
   "metadata": {
    "collapsed": false,
    "pycharm": {
     "name": "#%%\n"
    }
   }
  },
  {
   "cell_type": "code",
   "execution_count": 9,
   "outputs": [],
   "source": [
    "def get_spec(spec_hash: str) -> Union[SpecWrapper, None]:\n",
    "    \"\"\"\n",
    "    Fetch a spec based on the hash.\n",
    "    :param spec_hash: The hash of the spec.\n",
    "    :return: A SpecWrapper of the spec or None if it doesn't exist.\n",
    "    \"\"\"\n",
    "    if not spec_hash in all_specs:\n",
    "        return None\n",
    "\n",
    "    spec = nasbench.get_metrics_from_hash(spec_hash)\n",
    "    matrix: np.ndarray = spec[0][\"module_adjacency\"]\n",
    "    ops: List[str] = spec[0][\"module_operations\"]\n",
    "    return SpecWrapper(matrix=matrix, ops=ops)"
   ],
   "metadata": {
    "collapsed": false,
    "pycharm": {
     "name": "#%%\n"
    }
   }
  },
  {
   "cell_type": "code",
   "execution_count": 10,
   "outputs": [],
   "source": [
    "def random_spec() -> SpecWrapper:\n",
    "    \"\"\"\n",
    "    Return a random spec.\n",
    "    :return: A SpecWrapper for the spec.\n",
    "    \"\"\"\n",
    "    return get_spec(random.choice(all_specs))"
   ],
   "metadata": {
    "collapsed": false,
    "pycharm": {
     "name": "#%%\n"
    }
   }
  },
  {
   "cell_type": "code",
   "execution_count": 11,
   "outputs": [],
   "source": [
    "def sel_best(population: List[SpecWrapper], k: int) -> List[SpecWrapper]:\n",
    "    \"\"\"\n",
    "    Select the top k candidates amongst the entire population.\n",
    "    :param population: The population to select from.\n",
    "    :param k: The number of top individuals to select.\n",
    "    :return: The selected individuals.\n",
    "    \"\"\"\n",
    "    # clone the list so we don't modify the passed list\n",
    "    population = list(population)\n",
    "    population.sort()\n",
    "    return population[-k:]\n",
    "\n",
    "\n",
    "def sel_random(population: List[SpecWrapper], k: int) -> List[SpecWrapper]:\n",
    "    \"\"\"\n",
    "    Select k individuals from the population at random.\n",
    "    :param population: The population to select from.\n",
    "    :param k: The number of individuals to select.\n",
    "    :return: The selected individuals.\n",
    "    \"\"\"\n",
    "    return random.sample(population, k)\n",
    "\n",
    "\n",
    "def sel_tournament(population: List[SpecWrapper], k: int, n: int) -> List[SpecWrapper]:\n",
    "    \"\"\"\n",
    "    Select the n best individuals from amongst k randomly selected candidates.\n",
    "    :param population: The population to select from.\n",
    "    :param k: The number of candidates to randomly select.\n",
    "    :param n: The number of top candidates to be returned.\n",
    "    :return: The selected individuals.\n",
    "    \"\"\"\n",
    "    candidates = sel_random(population, k)\n",
    "    return sel_best(candidates, n)\n",
    "\n",
    "\n",
    "def drop_worst(population: List[SpecWrapper], k: int) -> List[SpecWrapper]:\n",
    "    \"\"\"\n",
    "    Drop the k worst candidates and return the remaining population.\n",
    "    :param population: The population to drop from.\n",
    "    :param k: Number of worst candidates to drop.\n",
    "    \"\"\"\n",
    "    # clone the list so we don't modify the passed list\n",
    "    population = list(population)\n",
    "    population.sort()\n",
    "    return population[k:]\n",
    "\n"
   ],
   "metadata": {
    "collapsed": false,
    "pycharm": {
     "name": "#%%\n"
    }
   }
  },
  {
   "cell_type": "code",
   "execution_count": 12,
   "outputs": [],
   "source": [
    "def make_specs(population: List[str]) -> List[SpecWrapper]:\n",
    "    return [SpecWrapper(ind) for ind in population]"
   ],
   "metadata": {
    "collapsed": false,
    "pycharm": {
     "name": "#%%\n"
    }
   }
  },
  {
   "cell_type": "code",
   "execution_count": 13,
   "outputs": [],
   "source": [
    "def run_random_search(k: int, max_time: float):\n",
    "    \"\"\"\n",
    "    Runs a simulated random search for a fixed amount of time. Actual time taken will be\n",
    "    relatively quick, only the simulated time is considered. Will return all evaluated models,\n",
    "    along with the k best models found.\n",
    "    :param k: Number of best models to return\n",
    "    :param max_time_budget: The amount of simulated time to expend.\n",
    "    :return: All models evaluated, along with the best k models.\n",
    "    \"\"\"\n",
    "    # resetting seeds at the top of the search functions is required for reproducibility\n",
    "    np.random.seed(RNG_SEED)\n",
    "    random.seed(RNG_SEED)\n",
    "\n",
    "    # nasbench tracks time taken with each query, effectively simulating full\n",
    "    # training, as we can query how long into the training we would be if we\n",
    "    # were training ourselves. we reset the counters at the top of each experiment\n",
    "    nasbench.reset_budget_counters()\n",
    "\n",
    "    best: List[SpecWrapper] = []\n",
    "    models: List[SpecWrapper] = []\n",
    "    evaluated: Set[str] = set()\n",
    "    collisions: int = 0\n",
    "\n",
    "    time_spent, _ = nasbench.get_budget_counters()\n",
    "    while time_spent < max_time:\n",
    "        spec = random_spec()\n",
    "        spec_hash = spec.hash_spec(nasbench.config[\"available_ops\"])\n",
    "\n",
    "        if spec_hash in evaluated:\n",
    "            collisions += 1\n",
    "            continue\n",
    "        else:\n",
    "            evaluated.add(spec_hash)\n",
    "\n",
    "        models.append(spec)\n",
    "        best = sel_best(models, k)\n",
    "        time_spent, _ = nasbench.get_budget_counters()\n",
    "        clear_output(wait=True)\n",
    "        print(f\"{time_spent/1000:0.2f}/{max_time/1000:0.0f}k ({(time_spent/max_time)*100:0.2f}%) seconds simulated\")\n",
    "\n",
    "    print(f\"{len(evaluated)} unique models during random search.\")\n",
    "    print(f\"{collisions} collisions during random search.\")\n",
    "\n",
    "    return models, best\n",
    "\n"
   ],
   "metadata": {
    "collapsed": false,
    "pycharm": {
     "name": "#%%\n"
    }
   }
  },
  {
   "cell_type": "code",
   "execution_count": 14,
   "outputs": [
    {
     "name": "stdout",
     "output_type": "stream",
     "text": [
      "503537.68/500000k (100.71%) seconds simulated\n",
      "218 unique models during random search.\n",
      "0 collisions during random search.\n"
     ]
    }
   ],
   "source": [
    "all, best = run_random_search(10, 5e8)"
   ],
   "metadata": {
    "collapsed": false,
    "pycharm": {
     "name": "#%%\n"
    }
   }
  },
  {
   "cell_type": "code",
   "execution_count": 15,
   "outputs": [
    {
     "data": {
      "text/plain": "                                 hash  parameters   train_time  \\\n193  49c5cc265b8d4f35853c68d24a4ce4b7    30515338  3857.607910   \n169  a39471ea746575cf09d6e7cc1d2970d2     8555530  1621.181885   \n70   939b5bc9edf798f9acd09345be8a52fb    15747722  2963.628906   \n113  fbad25518689a2aa5aa6490ce8a6c74b     6230410  1678.697021   \n142  8ab47dc234a78005f41ca30b281a6ffa    31552906  4087.083984   \n..                                ...         ...          ...   \n82   f05919dd1f6eea185c4b5616ae269b9a      535071   818.460999   \n56   5990289a47a65df2afd4fac6cb0174fb     5906570  1860.664062   \n210  c20f2084c5eef883371da62b19164780     2957706  1606.395996   \n153  7d6b0743b6f0afbc8fc3627f3836691b     6944138  1692.015991   \n173  3b1665e6a861f2c3f1bb07300a3ec4e8     5095946  1394.848022   \n\n     train_accuracy  valid_accuracy  test_accuracy  \n193        1.000000        0.944111       0.938101  \n169        1.000000        0.938201       0.937099  \n70         1.000000        0.941206       0.936398  \n113        1.000000        0.939103       0.933694  \n142        1.000000        0.936899       0.932893  \n..              ...             ...            ...  \n82         0.985978        0.846554       0.838441  \n56         0.976663        0.829427       0.831230  \n210        0.975060        0.818109       0.805389  \n153        0.683794        0.655148       0.655549  \n173        0.102965        0.095052       0.100060  \n\n[218 rows x 6 columns]",
      "text/html": "<div>\n<style scoped>\n    .dataframe tbody tr th:only-of-type {\n        vertical-align: middle;\n    }\n\n    .dataframe tbody tr th {\n        vertical-align: top;\n    }\n\n    .dataframe thead th {\n        text-align: right;\n    }\n</style>\n<table border=\"1\" class=\"dataframe\">\n  <thead>\n    <tr style=\"text-align: right;\">\n      <th></th>\n      <th>hash</th>\n      <th>parameters</th>\n      <th>train_time</th>\n      <th>train_accuracy</th>\n      <th>valid_accuracy</th>\n      <th>test_accuracy</th>\n    </tr>\n  </thead>\n  <tbody>\n    <tr>\n      <th>193</th>\n      <td>49c5cc265b8d4f35853c68d24a4ce4b7</td>\n      <td>30515338</td>\n      <td>3857.607910</td>\n      <td>1.000000</td>\n      <td>0.944111</td>\n      <td>0.938101</td>\n    </tr>\n    <tr>\n      <th>169</th>\n      <td>a39471ea746575cf09d6e7cc1d2970d2</td>\n      <td>8555530</td>\n      <td>1621.181885</td>\n      <td>1.000000</td>\n      <td>0.938201</td>\n      <td>0.937099</td>\n    </tr>\n    <tr>\n      <th>70</th>\n      <td>939b5bc9edf798f9acd09345be8a52fb</td>\n      <td>15747722</td>\n      <td>2963.628906</td>\n      <td>1.000000</td>\n      <td>0.941206</td>\n      <td>0.936398</td>\n    </tr>\n    <tr>\n      <th>113</th>\n      <td>fbad25518689a2aa5aa6490ce8a6c74b</td>\n      <td>6230410</td>\n      <td>1678.697021</td>\n      <td>1.000000</td>\n      <td>0.939103</td>\n      <td>0.933694</td>\n    </tr>\n    <tr>\n      <th>142</th>\n      <td>8ab47dc234a78005f41ca30b281a6ffa</td>\n      <td>31552906</td>\n      <td>4087.083984</td>\n      <td>1.000000</td>\n      <td>0.936899</td>\n      <td>0.932893</td>\n    </tr>\n    <tr>\n      <th>...</th>\n      <td>...</td>\n      <td>...</td>\n      <td>...</td>\n      <td>...</td>\n      <td>...</td>\n      <td>...</td>\n    </tr>\n    <tr>\n      <th>82</th>\n      <td>f05919dd1f6eea185c4b5616ae269b9a</td>\n      <td>535071</td>\n      <td>818.460999</td>\n      <td>0.985978</td>\n      <td>0.846554</td>\n      <td>0.838441</td>\n    </tr>\n    <tr>\n      <th>56</th>\n      <td>5990289a47a65df2afd4fac6cb0174fb</td>\n      <td>5906570</td>\n      <td>1860.664062</td>\n      <td>0.976663</td>\n      <td>0.829427</td>\n      <td>0.831230</td>\n    </tr>\n    <tr>\n      <th>210</th>\n      <td>c20f2084c5eef883371da62b19164780</td>\n      <td>2957706</td>\n      <td>1606.395996</td>\n      <td>0.975060</td>\n      <td>0.818109</td>\n      <td>0.805389</td>\n    </tr>\n    <tr>\n      <th>153</th>\n      <td>7d6b0743b6f0afbc8fc3627f3836691b</td>\n      <td>6944138</td>\n      <td>1692.015991</td>\n      <td>0.683794</td>\n      <td>0.655148</td>\n      <td>0.655549</td>\n    </tr>\n    <tr>\n      <th>173</th>\n      <td>3b1665e6a861f2c3f1bb07300a3ec4e8</td>\n      <td>5095946</td>\n      <td>1394.848022</td>\n      <td>0.102965</td>\n      <td>0.095052</td>\n      <td>0.100060</td>\n    </tr>\n  </tbody>\n</table>\n<p>218 rows × 6 columns</p>\n</div>"
     },
     "execution_count": 15,
     "metadata": {},
     "output_type": "execute_result"
    }
   ],
   "source": [
    "adf = pd.DataFrame(list(map(lambda x: x.get_data(), all)))\n",
    "adf = adf.drop(columns=['matrix', 'operations'])\n",
    "adf.sort_values(by=[\"test_accuracy\"], ascending=False)"
   ],
   "metadata": {
    "collapsed": false,
    "pycharm": {
     "name": "#%%\n"
    }
   }
  },
  {
   "cell_type": "code",
   "execution_count": 16,
   "outputs": [
    {
     "data": {
      "text/plain": "                               hash  parameters   train_time  train_accuracy  \\\n2  49c5cc265b8d4f35853c68d24a4ce4b7    30515338  3857.607910             1.0   \n9  a39471ea746575cf09d6e7cc1d2970d2     8555530  1621.181885             1.0   \n8  939b5bc9edf798f9acd09345be8a52fb    15747722  2963.884033             1.0   \n7  8ab47dc234a78005f41ca30b281a6ffa    31552906  4090.587891             1.0   \n1  bf9c69ec3e4bdfcf4b4c1b1e3d784b8d    15911562  2940.676025             1.0   \n5  af6bc6497d28a2ac0d07401faf78d782    10183050  1660.737061             1.0   \n3  9688103ecb4c9130f28a8640155b46a8     4206540  1458.468994             1.0   \n4  611666cc4f9fa529c7321b3f7c4dce09    15037834  2505.226074             1.0   \n6  5ee3351fc0effac626dcdd1d5d8d1359     8816266  1741.989990             1.0   \n0  9d365737520fe9c57442e1d1c1ed2842     4426762  1239.964966             1.0   \n\n   valid_accuracy  test_accuracy  \n2        0.944111       0.938101  \n9        0.938201       0.937099  \n8        0.941206       0.934696  \n7        0.939804       0.933093  \n1        0.941807       0.932893  \n5        0.937800       0.932191  \n3        0.936899       0.931390  \n4        0.933894       0.929487  \n6        0.935096       0.928786  \n0        0.931190       0.928586  ",
      "text/html": "<div>\n<style scoped>\n    .dataframe tbody tr th:only-of-type {\n        vertical-align: middle;\n    }\n\n    .dataframe tbody tr th {\n        vertical-align: top;\n    }\n\n    .dataframe thead th {\n        text-align: right;\n    }\n</style>\n<table border=\"1\" class=\"dataframe\">\n  <thead>\n    <tr style=\"text-align: right;\">\n      <th></th>\n      <th>hash</th>\n      <th>parameters</th>\n      <th>train_time</th>\n      <th>train_accuracy</th>\n      <th>valid_accuracy</th>\n      <th>test_accuracy</th>\n    </tr>\n  </thead>\n  <tbody>\n    <tr>\n      <th>2</th>\n      <td>49c5cc265b8d4f35853c68d24a4ce4b7</td>\n      <td>30515338</td>\n      <td>3857.607910</td>\n      <td>1.0</td>\n      <td>0.944111</td>\n      <td>0.938101</td>\n    </tr>\n    <tr>\n      <th>9</th>\n      <td>a39471ea746575cf09d6e7cc1d2970d2</td>\n      <td>8555530</td>\n      <td>1621.181885</td>\n      <td>1.0</td>\n      <td>0.938201</td>\n      <td>0.937099</td>\n    </tr>\n    <tr>\n      <th>8</th>\n      <td>939b5bc9edf798f9acd09345be8a52fb</td>\n      <td>15747722</td>\n      <td>2963.884033</td>\n      <td>1.0</td>\n      <td>0.941206</td>\n      <td>0.934696</td>\n    </tr>\n    <tr>\n      <th>7</th>\n      <td>8ab47dc234a78005f41ca30b281a6ffa</td>\n      <td>31552906</td>\n      <td>4090.587891</td>\n      <td>1.0</td>\n      <td>0.939804</td>\n      <td>0.933093</td>\n    </tr>\n    <tr>\n      <th>1</th>\n      <td>bf9c69ec3e4bdfcf4b4c1b1e3d784b8d</td>\n      <td>15911562</td>\n      <td>2940.676025</td>\n      <td>1.0</td>\n      <td>0.941807</td>\n      <td>0.932893</td>\n    </tr>\n    <tr>\n      <th>5</th>\n      <td>af6bc6497d28a2ac0d07401faf78d782</td>\n      <td>10183050</td>\n      <td>1660.737061</td>\n      <td>1.0</td>\n      <td>0.937800</td>\n      <td>0.932191</td>\n    </tr>\n    <tr>\n      <th>3</th>\n      <td>9688103ecb4c9130f28a8640155b46a8</td>\n      <td>4206540</td>\n      <td>1458.468994</td>\n      <td>1.0</td>\n      <td>0.936899</td>\n      <td>0.931390</td>\n    </tr>\n    <tr>\n      <th>4</th>\n      <td>611666cc4f9fa529c7321b3f7c4dce09</td>\n      <td>15037834</td>\n      <td>2505.226074</td>\n      <td>1.0</td>\n      <td>0.933894</td>\n      <td>0.929487</td>\n    </tr>\n    <tr>\n      <th>6</th>\n      <td>5ee3351fc0effac626dcdd1d5d8d1359</td>\n      <td>8816266</td>\n      <td>1741.989990</td>\n      <td>1.0</td>\n      <td>0.935096</td>\n      <td>0.928786</td>\n    </tr>\n    <tr>\n      <th>0</th>\n      <td>9d365737520fe9c57442e1d1c1ed2842</td>\n      <td>4426762</td>\n      <td>1239.964966</td>\n      <td>1.0</td>\n      <td>0.931190</td>\n      <td>0.928586</td>\n    </tr>\n  </tbody>\n</table>\n</div>"
     },
     "execution_count": 16,
     "metadata": {},
     "output_type": "execute_result"
    }
   ],
   "source": [
    "bdf = pd.DataFrame(list(map(lambda x: x.get_data(), best)))\n",
    "bdf = bdf.drop(columns=['matrix', 'operations'])\n",
    "bdf.sort_values(by=[\"test_accuracy\"], ascending=False)"
   ],
   "metadata": {
    "collapsed": false,
    "pycharm": {
     "name": "#%%\n"
    }
   }
  },
  {
   "cell_type": "code",
   "execution_count": 17,
   "outputs": [],
   "source": [
    "def crossover_spec(spec_a: SpecWrapper, spec_b: SpecWrapper, cxprb: float = 0.5) -> SpecWrapper:\n",
    "    assert spec_a.matrix.shape == spec_b.matrix.shape\n",
    "\n",
    "    while True:\n",
    "        new_matrix = copy.deepcopy(spec_a.matrix)\n",
    "        new_ops = copy.deepcopy(spec_a.ops)\n",
    "\n",
    "        for ridx, row in enumerate(spec_b.matrix):\n",
    "            for cidx, itm in enumerate(row):\n",
    "                if random.random() < cxprb:\n",
    "                    new_matrix[ridx][cidx] = itm\n",
    "\n",
    "        for oidx, op in enumerate(spec_b.ops):\n",
    "            if random.random() < cxprb:\n",
    "                new_ops[oidx] = op\n",
    "\n",
    "        new_spec = SpecWrapper(new_matrix, new_ops)\n",
    "        if nasbench.is_valid(new_spec):\n",
    "            return new_spec\n",
    "\n"
   ],
   "metadata": {
    "collapsed": false,
    "pycharm": {
     "name": "#%%\n"
    }
   }
  },
  {
   "cell_type": "code",
   "execution_count": 26,
   "outputs": [
    {
     "name": "stdout",
     "output_type": "stream",
     "text": [
      "514408.12/500000k (102.88%) seconds simulated\n",
      "Best so far -- Test: 0.9403045, Valid: 0.9445112\n"
     ]
    }
   ],
   "source": [
    "def mutate_spec(old_spec, mutation_rate=1.0):\n",
    "    \"\"\"Computes a valid mutated spec from the old_spec.\"\"\"\n",
    "    old_size = old_spec.matrix.shape[0]\n",
    "    while True:\n",
    "        new_matrix = copy.deepcopy(old_spec.original_matrix)\n",
    "        new_ops = copy.deepcopy(old_spec.original_ops)\n",
    "\n",
    "        # In expectation, V edges flipped (note that most end up being pruned).\n",
    "        edge_mutation_prob = mutation_rate / old_size\n",
    "        for src in range(0, old_size - 1):\n",
    "            for dst in range(src + 1, old_size):\n",
    "                if random.random() < edge_mutation_prob:\n",
    "                    new_matrix[src, dst] = 1 - new_matrix[src, dst]\n",
    "\n",
    "        # In expectation, one op is resampled.\n",
    "        op_mutation_prob = mutation_rate / OP_SPOTS\n",
    "        for ind in range(1, old_size - 1):\n",
    "            if random.random() < op_mutation_prob:\n",
    "                available = [\n",
    "                    o for o in nasbench.config[\"available_ops\"] if o != new_ops[ind]\n",
    "                ]\n",
    "                new_ops[ind] = random.choice(available)\n",
    "\n",
    "        new_spec = SpecWrapper(new_matrix, new_ops)\n",
    "        if nasbench.is_valid(new_spec):\n",
    "            return new_spec\n",
    "\n",
    "\n",
    "def run_evolutionary_search(max_time: float, pop_size: int, n_best: int):\n",
    "    # resetting seeds at the top of the search functions is required for reproducibility\n",
    "    np.random.seed(RNG_SEED)\n",
    "    random.seed(RNG_SEED)\n",
    "\n",
    "    # nasbench tracks time taken with each query, effectively simulating full\n",
    "    # training, as we can query how long into the training we would be if we\n",
    "    # were training ourselves. we reset the counters at the top of each experiment\n",
    "    nasbench.reset_budget_counters()\n",
    "\n",
    "    population = [get_spec(ind) for ind in sel_random(all_specs, pop_size)]\n",
    "    [ind.get_data() for ind in population]\n",
    "\n",
    "    best: List[SpecWrapper] = sel_best(population, n_best)\n",
    "    evaluated: Set[str] = set(map(lambda x: x.get_hash(), population))\n",
    "\n",
    "    def update_evaluated(new_items: List[SpecWrapper]):\n",
    "        [evaluated.add(ind.get_hash()) for ind in new_items]\n",
    "\n",
    "    time_spent, _ = nasbench.get_budget_counters()\n",
    "    while time_spent < max_time:\n",
    "        [ind.get_data() for ind in population]\n",
    "\n",
    "        n_new = math.ceil(len(population)*0.05)\n",
    "        population = drop_worst(population, n_new)\n",
    "\n",
    "        new_specs: List[SpecWrapper] = []\n",
    "        while len(new_specs) < n_new:\n",
    "            candidate = sel_tournament(population, 25, 1)[0]\n",
    "            candidate = mutate_spec(candidate, 1)\n",
    "            cand_hash = candidate.get_hash()\n",
    "\n",
    "            if cand_hash in evaluated:\n",
    "                continue\n",
    "\n",
    "            update_evaluated([candidate])\n",
    "            candidate.get_data()\n",
    "            new_specs.append(candidate)\n",
    "\n",
    "        population = [*population, *new_specs]\n",
    "        time_spent, _ = nasbench.get_budget_counters()\n",
    "        best = sel_best(population, n_best)\n",
    "        best.sort()\n",
    "\n",
    "        clear_output(wait=True)\n",
    "        abs_best = best[-1].get_data()\n",
    "        print(f\"{time_spent/1000:0.2f}/{max_time/1000:0.0f}k ({(time_spent/max_time)*100:0.2f}%) seconds simulated\")\n",
    "        print(f'Best so far -- Test: {abs_best.test_accuracy:0.7f}, Valid: {abs_best.valid_accuracy:0.7f}')\n",
    "\n",
    "    return population, best, evaluated\n",
    "\n",
    "population, best, all = run_evolutionary_search(5e8, 100, 10)"
   ],
   "metadata": {
    "collapsed": false,
    "pycharm": {
     "name": "#%%\n"
    }
   }
  },
  {
   "cell_type": "code",
   "execution_count": 27,
   "outputs": [
    {
     "data": {
      "text/plain": "                                hash  parameters   train_time  train_accuracy  \\\n94  1cd3075dacd68bc6fd43ba6d2870a431    23131530  3159.622070             1.0   \n84  a5af90a9ffbb95c7737f9e47af569c04    31552906  3630.953125             1.0   \n92  f5d9849d3c37a810ac43b8a42aa5d19f    23131530  2967.960938             1.0   \n51  2bf4e3dbd48d84126f7ac1862e18752d    30515338  3356.468994             1.0   \n65  1beb83aa184aa5720b498e9636abc089    32426634  3913.979004             1.0   \n..                               ...         ...          ...             ...   \n98  caeaaad4ab2c04519abf3652ac406992    14000266  2523.416016             1.0   \n7   cf3944bc50c7ed89e9b9ce89646d26f1    23295370  2991.322021             1.0   \n2   01d32ce90de0879a63bd14cede790fea    15911562  2516.398926             1.0   \n48  88e82447183b34c14c398690db205314     6406538  2076.501953             1.0   \n15  256affa4b0191e323796f138db7b1164    12962698  1849.715088             1.0   \n\n    valid_accuracy  test_accuracy  \n94        0.945713       0.944311  \n84        0.945312       0.943409  \n92        0.942508       0.942308  \n51        0.944611       0.941406  \n65        0.947115       0.941206  \n..             ...            ...  \n98        0.934896       0.929187  \n7         0.938301       0.927584  \n2         0.934996       0.925881  \n48        0.933894       0.925481  \n15        0.937600       0.925080  \n\n[100 rows x 6 columns]",
      "text/html": "<div>\n<style scoped>\n    .dataframe tbody tr th:only-of-type {\n        vertical-align: middle;\n    }\n\n    .dataframe tbody tr th {\n        vertical-align: top;\n    }\n\n    .dataframe thead th {\n        text-align: right;\n    }\n</style>\n<table border=\"1\" class=\"dataframe\">\n  <thead>\n    <tr style=\"text-align: right;\">\n      <th></th>\n      <th>hash</th>\n      <th>parameters</th>\n      <th>train_time</th>\n      <th>train_accuracy</th>\n      <th>valid_accuracy</th>\n      <th>test_accuracy</th>\n    </tr>\n  </thead>\n  <tbody>\n    <tr>\n      <th>94</th>\n      <td>1cd3075dacd68bc6fd43ba6d2870a431</td>\n      <td>23131530</td>\n      <td>3159.622070</td>\n      <td>1.0</td>\n      <td>0.945713</td>\n      <td>0.944311</td>\n    </tr>\n    <tr>\n      <th>84</th>\n      <td>a5af90a9ffbb95c7737f9e47af569c04</td>\n      <td>31552906</td>\n      <td>3630.953125</td>\n      <td>1.0</td>\n      <td>0.945312</td>\n      <td>0.943409</td>\n    </tr>\n    <tr>\n      <th>92</th>\n      <td>f5d9849d3c37a810ac43b8a42aa5d19f</td>\n      <td>23131530</td>\n      <td>2967.960938</td>\n      <td>1.0</td>\n      <td>0.942508</td>\n      <td>0.942308</td>\n    </tr>\n    <tr>\n      <th>51</th>\n      <td>2bf4e3dbd48d84126f7ac1862e18752d</td>\n      <td>30515338</td>\n      <td>3356.468994</td>\n      <td>1.0</td>\n      <td>0.944611</td>\n      <td>0.941406</td>\n    </tr>\n    <tr>\n      <th>65</th>\n      <td>1beb83aa184aa5720b498e9636abc089</td>\n      <td>32426634</td>\n      <td>3913.979004</td>\n      <td>1.0</td>\n      <td>0.947115</td>\n      <td>0.941206</td>\n    </tr>\n    <tr>\n      <th>...</th>\n      <td>...</td>\n      <td>...</td>\n      <td>...</td>\n      <td>...</td>\n      <td>...</td>\n      <td>...</td>\n    </tr>\n    <tr>\n      <th>98</th>\n      <td>caeaaad4ab2c04519abf3652ac406992</td>\n      <td>14000266</td>\n      <td>2523.416016</td>\n      <td>1.0</td>\n      <td>0.934896</td>\n      <td>0.929187</td>\n    </tr>\n    <tr>\n      <th>7</th>\n      <td>cf3944bc50c7ed89e9b9ce89646d26f1</td>\n      <td>23295370</td>\n      <td>2991.322021</td>\n      <td>1.0</td>\n      <td>0.938301</td>\n      <td>0.927584</td>\n    </tr>\n    <tr>\n      <th>2</th>\n      <td>01d32ce90de0879a63bd14cede790fea</td>\n      <td>15911562</td>\n      <td>2516.398926</td>\n      <td>1.0</td>\n      <td>0.934996</td>\n      <td>0.925881</td>\n    </tr>\n    <tr>\n      <th>48</th>\n      <td>88e82447183b34c14c398690db205314</td>\n      <td>6406538</td>\n      <td>2076.501953</td>\n      <td>1.0</td>\n      <td>0.933894</td>\n      <td>0.925481</td>\n    </tr>\n    <tr>\n      <th>15</th>\n      <td>256affa4b0191e323796f138db7b1164</td>\n      <td>12962698</td>\n      <td>1849.715088</td>\n      <td>1.0</td>\n      <td>0.937600</td>\n      <td>0.925080</td>\n    </tr>\n  </tbody>\n</table>\n<p>100 rows × 6 columns</p>\n</div>"
     },
     "execution_count": 27,
     "metadata": {},
     "output_type": "execute_result"
    }
   ],
   "source": [
    "adf = pd.DataFrame(list(map(lambda x: x.get_data(), population)))\n",
    "adf = adf.drop(columns=['matrix', 'operations'])\n",
    "adf.sort_values(by=[\"test_accuracy\"], ascending=False)"
   ],
   "metadata": {
    "collapsed": false,
    "pycharm": {
     "name": "#%%\n"
    }
   }
  },
  {
   "cell_type": "code",
   "execution_count": 28,
   "outputs": [
    {
     "data": {
      "text/plain": "                               hash  parameters   train_time  train_accuracy  \\\n5  a05c0efdac251392b3299fdadd52ccc1    31389066  3807.322998             1.0   \n8  1cd3075dacd68bc6fd43ba6d2870a431    23131530  3159.622070             1.0   \n3  3ddfed42fa77b6813ef9c2998e6afef3    31389066  4100.892090             1.0   \n9  5ca7fb6ce30c7e3ed0ac832ca6431d5d    31389066  3731.862061             1.0   \n7  324a2b403f2d571680694086ff4937d2    23131530  3451.044922             1.0   \n0  b31b54c1ca6989b1ec51a1fac4fedc27    22257802  3223.629883             1.0   \n2  c19d402b167416d7d3853f1f6788fcf3    23131530  3444.309082             1.0   \n6  4384e75a71f24965990ef2dd5602155f    33300362  4191.884766             1.0   \n4  c90994ab1c1f30967e897f1fa84e27b5    23131530  2952.353027             1.0   \n1  dbbee9e11fd122b21ef2ecb865c34e81    23131530  3153.926025             1.0   \n\n   valid_accuracy  test_accuracy  \n5        0.945212       0.944712  \n8        0.945713       0.944311  \n3        0.945613       0.942708  \n9        0.948117       0.941707  \n7        0.944812       0.939503  \n0        0.943209       0.939303  \n2        0.945012       0.939002  \n6        0.942809       0.939002  \n4        0.941907       0.938401  \n1        0.939303       0.934896  ",
      "text/html": "<div>\n<style scoped>\n    .dataframe tbody tr th:only-of-type {\n        vertical-align: middle;\n    }\n\n    .dataframe tbody tr th {\n        vertical-align: top;\n    }\n\n    .dataframe thead th {\n        text-align: right;\n    }\n</style>\n<table border=\"1\" class=\"dataframe\">\n  <thead>\n    <tr style=\"text-align: right;\">\n      <th></th>\n      <th>hash</th>\n      <th>parameters</th>\n      <th>train_time</th>\n      <th>train_accuracy</th>\n      <th>valid_accuracy</th>\n      <th>test_accuracy</th>\n    </tr>\n  </thead>\n  <tbody>\n    <tr>\n      <th>5</th>\n      <td>a05c0efdac251392b3299fdadd52ccc1</td>\n      <td>31389066</td>\n      <td>3807.322998</td>\n      <td>1.0</td>\n      <td>0.945212</td>\n      <td>0.944712</td>\n    </tr>\n    <tr>\n      <th>8</th>\n      <td>1cd3075dacd68bc6fd43ba6d2870a431</td>\n      <td>23131530</td>\n      <td>3159.622070</td>\n      <td>1.0</td>\n      <td>0.945713</td>\n      <td>0.944311</td>\n    </tr>\n    <tr>\n      <th>3</th>\n      <td>3ddfed42fa77b6813ef9c2998e6afef3</td>\n      <td>31389066</td>\n      <td>4100.892090</td>\n      <td>1.0</td>\n      <td>0.945613</td>\n      <td>0.942708</td>\n    </tr>\n    <tr>\n      <th>9</th>\n      <td>5ca7fb6ce30c7e3ed0ac832ca6431d5d</td>\n      <td>31389066</td>\n      <td>3731.862061</td>\n      <td>1.0</td>\n      <td>0.948117</td>\n      <td>0.941707</td>\n    </tr>\n    <tr>\n      <th>7</th>\n      <td>324a2b403f2d571680694086ff4937d2</td>\n      <td>23131530</td>\n      <td>3451.044922</td>\n      <td>1.0</td>\n      <td>0.944812</td>\n      <td>0.939503</td>\n    </tr>\n    <tr>\n      <th>0</th>\n      <td>b31b54c1ca6989b1ec51a1fac4fedc27</td>\n      <td>22257802</td>\n      <td>3223.629883</td>\n      <td>1.0</td>\n      <td>0.943209</td>\n      <td>0.939303</td>\n    </tr>\n    <tr>\n      <th>2</th>\n      <td>c19d402b167416d7d3853f1f6788fcf3</td>\n      <td>23131530</td>\n      <td>3444.309082</td>\n      <td>1.0</td>\n      <td>0.945012</td>\n      <td>0.939002</td>\n    </tr>\n    <tr>\n      <th>6</th>\n      <td>4384e75a71f24965990ef2dd5602155f</td>\n      <td>33300362</td>\n      <td>4191.884766</td>\n      <td>1.0</td>\n      <td>0.942809</td>\n      <td>0.939002</td>\n    </tr>\n    <tr>\n      <th>4</th>\n      <td>c90994ab1c1f30967e897f1fa84e27b5</td>\n      <td>23131530</td>\n      <td>2952.353027</td>\n      <td>1.0</td>\n      <td>0.941907</td>\n      <td>0.938401</td>\n    </tr>\n    <tr>\n      <th>1</th>\n      <td>dbbee9e11fd122b21ef2ecb865c34e81</td>\n      <td>23131530</td>\n      <td>3153.926025</td>\n      <td>1.0</td>\n      <td>0.939303</td>\n      <td>0.934896</td>\n    </tr>\n  </tbody>\n</table>\n</div>"
     },
     "execution_count": 28,
     "metadata": {},
     "output_type": "execute_result"
    }
   ],
   "source": [
    "bdf = pd.DataFrame(list(map(lambda x: x.get_data(), best)))\n",
    "bdf = bdf.drop(columns=['matrix', 'operations'])\n",
    "bdf.sort_values(by=[\"test_accuracy\"], ascending=False)"
   ],
   "metadata": {
    "collapsed": false,
    "pycharm": {
     "name": "#%%\n"
    }
   }
  },
  {
   "cell_type": "code",
   "execution_count": null,
   "outputs": [],
   "source": [],
   "metadata": {
    "collapsed": false,
    "pycharm": {
     "name": "#%%\n"
    }
   }
  }
 ],
 "metadata": {
  "kernelspec": {
   "display_name": "Python 3",
   "language": "python",
   "name": "python3"
  },
  "language_info": {
   "codemirror_mode": {
    "name": "ipython",
    "version": 2
   },
   "file_extension": ".py",
   "mimetype": "text/x-python",
   "name": "python",
   "nbconvert_exporter": "python",
   "pygments_lexer": "ipython2",
   "version": "2.7.6"
  }
 },
 "nbformat": 4,
 "nbformat_minor": 0
}