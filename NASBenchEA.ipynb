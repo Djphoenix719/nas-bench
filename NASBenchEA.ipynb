{
 "cells": [
  {
   "cell_type": "markdown",
   "source": [
    "Some of this code is Copyright 2019 Google LLC\n",
    "\n",
    "Licensed under the Apache License, Version 2.0 (the \"License\");\n",
    "you may not use this file except in compliance with the License.\n",
    "You may obtain a copy of the License at\n",
    "\n",
    "    https://www.apache.org/licenses/LICENSE-2.0\n",
    "\n",
    "Unless required by applicable law or agreed to in writing, software\n",
    "distributed under the License is distributed on an \"AS IS\" BASIS,\n",
    "WITHOUT WARRANTIES OR CONDITIONS OF ANY KIND, either express or implied.\n",
    "See the License for the specific language governing permissions and\n",
    "limitations under the License."
   ],
   "metadata": {
    "collapsed": false
   }
  },
  {
   "cell_type": "code",
   "execution_count": 1,
   "outputs": [],
   "source": [
    "# Uncomment for just the 108 epoch dataset (~500mb)\n",
    "# !curl -O https://storage.googleapis.com/nasbench/nasbench_only108.tfrecord\n",
    "# Uncomment for the full dataset (~2gb)\n",
    "# !curl -O https://storage.googleapis.com/nasbench/nasbench_full.tfrecord"
   ],
   "metadata": {
    "collapsed": false,
    "pycharm": {
     "name": "#%%\n"
    }
   }
  },
  {
   "cell_type": "code",
   "execution_count": 2,
   "outputs": [
    {
     "name": "stdout",
     "output_type": "stream",
     "text": [
      "WARNING:tensorflow:From d:\\nas-bench\\venv\\lib\\site-packages\\nasbench\\lib\\training_time.py:130: The name tf.train.SessionRunHook is deprecated. Please use tf.estimator.SessionRunHook instead.\n",
      "\n",
      "WARNING:tensorflow:From d:\\nas-bench\\venv\\lib\\site-packages\\nasbench\\lib\\training_time.py:174: The name tf.train.CheckpointSaverListener is deprecated. Please use tf.estimator.CheckpointSaverListener instead.\n",
      "\n",
      "WARNING:tensorflow:From d:\\nas-bench\\venv\\lib\\site-packages\\nasbench\\lib\\evaluate.py:30: The name tf.train.NanLossDuringTrainingError is deprecated. Please use tf.estimator.NanLossDuringTrainingError instead.\n",
      "\n",
      "Loading dataset from file... This may take a few minutes...\n",
      "WARNING:tensorflow:From d:\\nas-bench\\venv\\lib\\site-packages\\nasbench\\api.py:146: tf_record_iterator (from tensorflow.python.lib.io.tf_record) is deprecated and will be removed in a future version.\n",
      "Instructions for updating:\n",
      "Use eager execution and: \n",
      "`tf.data.TFRecordDataset(path)`\n",
      "Loaded dataset in 35 seconds\n"
     ]
    }
   ],
   "source": [
    "import copy\n",
    "import math\n",
    "from typing import Set\n",
    "from typing import Callable\n",
    "\n",
    "from trials.Constants import *\n",
    "from trials.Evolution import *\n",
    "from trials.ModelSpec import *\n",
    "from trials.Search import *\n",
    "from trials.Selection import *\n",
    "from trials.Utilities import *\n",
    "\n",
    "from IPython.core.display import clear_output"
   ],
   "metadata": {
    "collapsed": false,
    "pycharm": {
     "name": "#%%\n"
    }
   }
  },
  {
   "cell_type": "code",
   "execution_count": 39,
   "outputs": [],
   "source": [
    "specs = [get_spec(hsh) for hsh in nasbench.hash_iterator()]"
   ],
   "metadata": {
    "collapsed": false,
    "pycharm": {
     "name": "#%%\n"
    }
   }
  },
  {
   "cell_type": "code",
   "execution_count": 40,
   "outputs": [],
   "source": [
    "ALL_SPECS = dict()\n",
    "for spec in specs:\n",
    "    ALL_SPECS[spec.get_hash()] = spec"
   ],
   "metadata": {
    "collapsed": false,
    "pycharm": {
     "name": "#%%\n"
    }
   }
  },
  {
   "cell_type": "code",
   "execution_count": 41,
   "outputs": [
    {
     "data": {
      "text/plain": "423624"
     },
     "execution_count": 41,
     "metadata": {},
     "output_type": "execute_result"
    }
   ],
   "source": [
    "len(ALL_SPECS)"
   ],
   "metadata": {
    "collapsed": false,
    "pycharm": {
     "name": "#%%\n"
    }
   }
  },
  {
   "cell_type": "code",
   "execution_count": null,
   "outputs": [],
   "source": [
    "def search(\n",
    "        max_time: float,\n",
    "        num_best: int,\n",
    "        num_epochs: int,\n",
    "        initial_population: List[SpecWrapper],\n",
    "        mut_fn: Callable[[List[SpecWrapper]], List[SpecWrapper]],\n",
    "        sel_fn: Callable[[List[SpecWrapper]], List[SpecWrapper]],\n",
    "        drp_fn: Callable[[List[SpecWrapper]], List[SpecWrapper]]\n",
    "    ):\n",
    "\n",
    "\n",
    "    # print(max_time)\n",
    "    # print(num_best)\n",
    "    # print(num_epochs)\n",
    "\n",
    "    sel_best = sel_best_fn(num_best)\n",
    "\n",
    "    def run_epoch(epoch_num: int, population: List[SpecWrapper]):\n",
    "        reset_trial_stats(RNG_SEED + epoch_num)\n",
    "\n",
    "        # initialize our population list, update budget counters\n",
    "        # this also effectively \"trains\" the initial population\n",
    "        population = [get_spec(ind.get_hash()) for ind in population]\n",
    "\n",
    "        # desired size of the population\n",
    "        p_size = len(population)\n",
    "\n",
    "        # list of hashes that we have previously evaluated which can be skipped in the future\n",
    "        done: Set[str] = set()\n",
    "\n",
    "        # running cumulative time total of all epochs\n",
    "        cur_time: float = 0\n",
    "\n",
    "        def print_update():\n",
    "            nonlocal cur_time, max_time, done\n",
    "            print(f\"{cur_time/1000:0.2f}k/{max_time/1000:0.0f}k ({(cur_time/max_time)*100:0.2f}%) seconds simulated, {len(done)} unique models\")\n",
    "\n",
    "        # update done, adding any new hashes to our set\n",
    "        def update_done(items: List[SpecWrapper]):\n",
    "            nonlocal cur_time\n",
    "            done.update(map(lambda x: x.get_hash(), items))\n",
    "            cur_time = sum([ind.get_data().train_time for ind in map(lambda x: get_spec(x), done)])\n",
    "\n",
    "        update_done(population)\n",
    "        print_update()\n",
    "\n",
    "        while cur_time < max_time:\n",
    "            # drop some candidates base on the specified function\n",
    "            population = drp_fn(population)\n",
    "            assert len(population) > 0\n",
    "            update_done(population)\n",
    "\n",
    "            # number of new specs to generate through mutation or crossover\n",
    "            num_new = p_size - len(population)\n",
    "            new_specs: List[SpecWrapper] = []\n",
    "            while len(new_specs) < num_new:\n",
    "                # select some candidates to mutate\n",
    "                candidates = sel_fn(population)\n",
    "                # mutate the candidates with the fn\n",
    "                candidates = mut_fn(candidates)\n",
    "\n",
    "                # only \"evaluate\" candidates who were not evaluate\n",
    "                # so if we hit a duplicate candidate, we should not\n",
    "                # add more training time, as it is wasteful\n",
    "                cand_hashes = [cand.get_hash() for cand in candidates]\n",
    "                cand_hashes = [hsh for hsh in cand_hashes if hsh not in done]\n",
    "\n",
    "                # remove dupe hashes\n",
    "                candidates = [get_spec(hsh) for hsh in cand_hashes]\n",
    "\n",
    "                # update the list of new specs\n",
    "                new_specs = [*new_specs, *candidates]\n",
    "\n",
    "            population = [*population, *new_specs][:p_size]\n",
    "\n",
    "            # [ind.get_data() for ind in population]\n",
    "            update_done(population)\n",
    "\n",
    "            print_update()\n",
    "\n",
    "        best = sel_best(population)\n",
    "        best.sort()\n",
    "\n",
    "        abs_best = best[-1].get_data()\n",
    "        print(f'Best in trial -- Test: {abs_best.test_accuracy:0.7f}, Valid: {abs_best.valid_accuracy:0.7f}')\n",
    "\n",
    "        return population, best, done\n",
    "\n",
    "    results: [List[List[SpecWrapper], List[SpecWrapper], Set[str]]] = []\n",
    "    for epoch_num in range(num_epochs):\n",
    "        print('-'*50)\n",
    "        population, best, done = run_epoch(epoch_num, initial_population)\n",
    "        results.append([population, best, done])\n",
    "        print(f'Finished evaluation, {len(done)} models evaluated')\n",
    "        print('-'*50)\n",
    "\n",
    "    return results\n",
    "\n"
   ],
   "metadata": {
    "collapsed": false,
    "pycharm": {
     "name": "#%%\n"
    }
   }
  },
  {
   "cell_type": "code",
   "execution_count": 38,
   "outputs": [
    {
     "name": "stdout",
     "output_type": "stream",
     "text": [
      "test\n",
      "--------------------------------------------------\n",
      "Reset stats.\n",
      "476.40k/2678k (17.79%) seconds simulated, 250 unique models\n",
      "516.83k/2678k (19.30%) seconds simulated, 275 unique models\n",
      "549.75k/2678k (20.53%) seconds simulated, 299 unique models\n",
      "592.03k/2678k (22.10%) seconds simulated, 324 unique models\n",
      "636.27k/2678k (23.76%) seconds simulated, 349 unique models\n",
      "680.67k/2678k (25.41%) seconds simulated, 373 unique models\n",
      "731.42k/2678k (27.31%) seconds simulated, 398 unique models\n",
      "777.08k/2678k (29.01%) seconds simulated, 423 unique models\n",
      "822.38k/2678k (30.70%) seconds simulated, 448 unique models\n",
      "869.34k/2678k (32.46%) seconds simulated, 473 unique models\n",
      "906.39k/2678k (33.84%) seconds simulated, 498 unique models\n",
      "947.43k/2678k (35.37%) seconds simulated, 522 unique models\n",
      "988.68k/2678k (36.91%) seconds simulated, 547 unique models\n",
      "1035.75k/2678k (38.67%) seconds simulated, 572 unique models\n",
      "1079.89k/2678k (40.32%) seconds simulated, 596 unique models\n",
      "1125.84k/2678k (42.03%) seconds simulated, 621 unique models\n"
     ]
    },
    {
     "ename": "KeyboardInterrupt",
     "evalue": "",
     "output_type": "error",
     "traceback": [
      "\u001B[1;31m---------------------------------------------------------------------------\u001B[0m",
      "\u001B[1;31mKeyboardInterrupt\u001B[0m                         Traceback (most recent call last)",
      "\u001B[1;32m~\\AppData\\Local\\Temp/ipykernel_28688/3088121656.py\u001B[0m in \u001B[0;36m<module>\u001B[1;34m\u001B[0m\n\u001B[0;32m     22\u001B[0m \u001B[1;32mfor\u001B[0m \u001B[0mkey\u001B[0m\u001B[1;33m,\u001B[0m \u001B[0mvalues\u001B[0m \u001B[1;32min\u001B[0m \u001B[0mtrials\u001B[0m\u001B[1;33m.\u001B[0m\u001B[0mitems\u001B[0m\u001B[1;33m(\u001B[0m\u001B[1;33m)\u001B[0m\u001B[1;33m:\u001B[0m\u001B[1;33m\u001B[0m\u001B[1;33m\u001B[0m\u001B[0m\n\u001B[0;32m     23\u001B[0m     \u001B[0mprint\u001B[0m\u001B[1;33m(\u001B[0m\u001B[0mkey\u001B[0m\u001B[1;33m)\u001B[0m\u001B[1;33m\u001B[0m\u001B[1;33m\u001B[0m\u001B[0m\n\u001B[1;32m---> 24\u001B[1;33m     \u001B[0msearch\u001B[0m\u001B[1;33m(\u001B[0m\u001B[1;33m**\u001B[0m\u001B[0mvalues\u001B[0m\u001B[1;33m)\u001B[0m\u001B[1;33m\u001B[0m\u001B[1;33m\u001B[0m\u001B[0m\n\u001B[0m\u001B[0;32m     25\u001B[0m \u001B[1;33m\u001B[0m\u001B[0m\n\u001B[0;32m     26\u001B[0m \u001B[1;33m\u001B[0m\u001B[0m\n",
      "\u001B[1;32m~\\AppData\\Local\\Temp/ipykernel_28688/1951548065.py\u001B[0m in \u001B[0;36msearch\u001B[1;34m(max_time, num_best, num_epochs, initial_population, mut_fn, sel_fn, drp_fn)\u001B[0m\n\u001B[0;32m     90\u001B[0m     \u001B[1;32mfor\u001B[0m \u001B[0mepoch_num\u001B[0m \u001B[1;32min\u001B[0m \u001B[0mrange\u001B[0m\u001B[1;33m(\u001B[0m\u001B[0mnum_epochs\u001B[0m\u001B[1;33m)\u001B[0m\u001B[1;33m:\u001B[0m\u001B[1;33m\u001B[0m\u001B[1;33m\u001B[0m\u001B[0m\n\u001B[0;32m     91\u001B[0m         \u001B[0mprint\u001B[0m\u001B[1;33m(\u001B[0m\u001B[1;34m'-'\u001B[0m\u001B[1;33m*\u001B[0m\u001B[1;36m50\u001B[0m\u001B[1;33m)\u001B[0m\u001B[1;33m\u001B[0m\u001B[1;33m\u001B[0m\u001B[0m\n\u001B[1;32m---> 92\u001B[1;33m         \u001B[0mpopulation\u001B[0m\u001B[1;33m,\u001B[0m \u001B[0mbest\u001B[0m\u001B[1;33m,\u001B[0m \u001B[0mdone\u001B[0m \u001B[1;33m=\u001B[0m \u001B[0mrun_epoch\u001B[0m\u001B[1;33m(\u001B[0m\u001B[0mepoch_num\u001B[0m\u001B[1;33m,\u001B[0m \u001B[0minitial_population\u001B[0m\u001B[1;33m)\u001B[0m\u001B[1;33m\u001B[0m\u001B[1;33m\u001B[0m\u001B[0m\n\u001B[0m\u001B[0;32m     93\u001B[0m         \u001B[0mresults\u001B[0m\u001B[1;33m.\u001B[0m\u001B[0mappend\u001B[0m\u001B[1;33m(\u001B[0m\u001B[1;33m[\u001B[0m\u001B[0mpopulation\u001B[0m\u001B[1;33m,\u001B[0m \u001B[0mbest\u001B[0m\u001B[1;33m,\u001B[0m \u001B[0mdone\u001B[0m\u001B[1;33m]\u001B[0m\u001B[1;33m)\u001B[0m\u001B[1;33m\u001B[0m\u001B[1;33m\u001B[0m\u001B[0m\n\u001B[0;32m     94\u001B[0m         \u001B[0mprint\u001B[0m\u001B[1;33m(\u001B[0m\u001B[1;34mf'Finished evaluation, {len(done)} models evaluated'\u001B[0m\u001B[1;33m)\u001B[0m\u001B[1;33m\u001B[0m\u001B[1;33m\u001B[0m\u001B[0m\n",
      "\u001B[1;32m~\\AppData\\Local\\Temp/ipykernel_28688/1951548065.py\u001B[0m in \u001B[0;36mrun_epoch\u001B[1;34m(epoch_num, population)\u001B[0m\n\u001B[0;32m     75\u001B[0m \u001B[1;33m\u001B[0m\u001B[0m\n\u001B[0;32m     76\u001B[0m             \u001B[1;31m# [ind.get_data() for ind in population]\u001B[0m\u001B[1;33m\u001B[0m\u001B[1;33m\u001B[0m\u001B[1;33m\u001B[0m\u001B[0m\n\u001B[1;32m---> 77\u001B[1;33m             \u001B[0mupdate_done\u001B[0m\u001B[1;33m(\u001B[0m\u001B[0mpopulation\u001B[0m\u001B[1;33m)\u001B[0m\u001B[1;33m\u001B[0m\u001B[1;33m\u001B[0m\u001B[0m\n\u001B[0m\u001B[0;32m     78\u001B[0m \u001B[1;33m\u001B[0m\u001B[0m\n\u001B[0;32m     79\u001B[0m             \u001B[0mprint_update\u001B[0m\u001B[1;33m(\u001B[0m\u001B[1;33m)\u001B[0m\u001B[1;33m\u001B[0m\u001B[1;33m\u001B[0m\u001B[0m\n",
      "\u001B[1;32m~\\AppData\\Local\\Temp/ipykernel_28688/1951548065.py\u001B[0m in \u001B[0;36mupdate_done\u001B[1;34m(items)\u001B[0m\n\u001B[0;32m     40\u001B[0m             \u001B[1;32mnonlocal\u001B[0m \u001B[0mcur_time\u001B[0m\u001B[1;33m\u001B[0m\u001B[1;33m\u001B[0m\u001B[0m\n\u001B[0;32m     41\u001B[0m             \u001B[0mdone\u001B[0m\u001B[1;33m.\u001B[0m\u001B[0mupdate\u001B[0m\u001B[1;33m(\u001B[0m\u001B[0mmap\u001B[0m\u001B[1;33m(\u001B[0m\u001B[1;32mlambda\u001B[0m \u001B[0mx\u001B[0m\u001B[1;33m:\u001B[0m \u001B[0mx\u001B[0m\u001B[1;33m.\u001B[0m\u001B[0mget_hash\u001B[0m\u001B[1;33m(\u001B[0m\u001B[1;33m)\u001B[0m\u001B[1;33m,\u001B[0m \u001B[0mitems\u001B[0m\u001B[1;33m)\u001B[0m\u001B[1;33m)\u001B[0m\u001B[1;33m\u001B[0m\u001B[1;33m\u001B[0m\u001B[0m\n\u001B[1;32m---> 42\u001B[1;33m             \u001B[0mcur_time\u001B[0m \u001B[1;33m=\u001B[0m \u001B[0msum\u001B[0m\u001B[1;33m(\u001B[0m\u001B[1;33m[\u001B[0m\u001B[0mind\u001B[0m\u001B[1;33m.\u001B[0m\u001B[0mget_data\u001B[0m\u001B[1;33m(\u001B[0m\u001B[1;33m)\u001B[0m\u001B[1;33m.\u001B[0m\u001B[0mtrain_time\u001B[0m \u001B[1;32mfor\u001B[0m \u001B[0mind\u001B[0m \u001B[1;32min\u001B[0m \u001B[0mmap\u001B[0m\u001B[1;33m(\u001B[0m\u001B[1;32mlambda\u001B[0m \u001B[0mx\u001B[0m\u001B[1;33m:\u001B[0m \u001B[0mget_spec\u001B[0m\u001B[1;33m(\u001B[0m\u001B[0mx\u001B[0m\u001B[1;33m)\u001B[0m\u001B[1;33m,\u001B[0m \u001B[0mdone\u001B[0m\u001B[1;33m)\u001B[0m\u001B[1;33m]\u001B[0m\u001B[1;33m)\u001B[0m\u001B[1;33m\u001B[0m\u001B[1;33m\u001B[0m\u001B[0m\n\u001B[0m\u001B[0;32m     43\u001B[0m \u001B[1;33m\u001B[0m\u001B[0m\n\u001B[0;32m     44\u001B[0m         \u001B[0mupdate_done\u001B[0m\u001B[1;33m(\u001B[0m\u001B[0mpopulation\u001B[0m\u001B[1;33m)\u001B[0m\u001B[1;33m\u001B[0m\u001B[1;33m\u001B[0m\u001B[0m\n",
      "\u001B[1;32m~\\AppData\\Local\\Temp/ipykernel_28688/1951548065.py\u001B[0m in \u001B[0;36m<listcomp>\u001B[1;34m(.0)\u001B[0m\n\u001B[0;32m     40\u001B[0m             \u001B[1;32mnonlocal\u001B[0m \u001B[0mcur_time\u001B[0m\u001B[1;33m\u001B[0m\u001B[1;33m\u001B[0m\u001B[0m\n\u001B[0;32m     41\u001B[0m             \u001B[0mdone\u001B[0m\u001B[1;33m.\u001B[0m\u001B[0mupdate\u001B[0m\u001B[1;33m(\u001B[0m\u001B[0mmap\u001B[0m\u001B[1;33m(\u001B[0m\u001B[1;32mlambda\u001B[0m \u001B[0mx\u001B[0m\u001B[1;33m:\u001B[0m \u001B[0mx\u001B[0m\u001B[1;33m.\u001B[0m\u001B[0mget_hash\u001B[0m\u001B[1;33m(\u001B[0m\u001B[1;33m)\u001B[0m\u001B[1;33m,\u001B[0m \u001B[0mitems\u001B[0m\u001B[1;33m)\u001B[0m\u001B[1;33m)\u001B[0m\u001B[1;33m\u001B[0m\u001B[1;33m\u001B[0m\u001B[0m\n\u001B[1;32m---> 42\u001B[1;33m             \u001B[0mcur_time\u001B[0m \u001B[1;33m=\u001B[0m \u001B[0msum\u001B[0m\u001B[1;33m(\u001B[0m\u001B[1;33m[\u001B[0m\u001B[0mind\u001B[0m\u001B[1;33m.\u001B[0m\u001B[0mget_data\u001B[0m\u001B[1;33m(\u001B[0m\u001B[1;33m)\u001B[0m\u001B[1;33m.\u001B[0m\u001B[0mtrain_time\u001B[0m \u001B[1;32mfor\u001B[0m \u001B[0mind\u001B[0m \u001B[1;32min\u001B[0m \u001B[0mmap\u001B[0m\u001B[1;33m(\u001B[0m\u001B[1;32mlambda\u001B[0m \u001B[0mx\u001B[0m\u001B[1;33m:\u001B[0m \u001B[0mget_spec\u001B[0m\u001B[1;33m(\u001B[0m\u001B[0mx\u001B[0m\u001B[1;33m)\u001B[0m\u001B[1;33m,\u001B[0m \u001B[0mdone\u001B[0m\u001B[1;33m)\u001B[0m\u001B[1;33m]\u001B[0m\u001B[1;33m)\u001B[0m\u001B[1;33m\u001B[0m\u001B[1;33m\u001B[0m\u001B[0m\n\u001B[0m\u001B[0;32m     43\u001B[0m \u001B[1;33m\u001B[0m\u001B[0m\n\u001B[0;32m     44\u001B[0m         \u001B[0mupdate_done\u001B[0m\u001B[1;33m(\u001B[0m\u001B[0mpopulation\u001B[0m\u001B[1;33m)\u001B[0m\u001B[1;33m\u001B[0m\u001B[1;33m\u001B[0m\u001B[0m\n",
      "\u001B[1;32m~\\AppData\\Local\\Temp/ipykernel_28688/1951548065.py\u001B[0m in \u001B[0;36m<lambda>\u001B[1;34m(x)\u001B[0m\n\u001B[0;32m     40\u001B[0m             \u001B[1;32mnonlocal\u001B[0m \u001B[0mcur_time\u001B[0m\u001B[1;33m\u001B[0m\u001B[1;33m\u001B[0m\u001B[0m\n\u001B[0;32m     41\u001B[0m             \u001B[0mdone\u001B[0m\u001B[1;33m.\u001B[0m\u001B[0mupdate\u001B[0m\u001B[1;33m(\u001B[0m\u001B[0mmap\u001B[0m\u001B[1;33m(\u001B[0m\u001B[1;32mlambda\u001B[0m \u001B[0mx\u001B[0m\u001B[1;33m:\u001B[0m \u001B[0mx\u001B[0m\u001B[1;33m.\u001B[0m\u001B[0mget_hash\u001B[0m\u001B[1;33m(\u001B[0m\u001B[1;33m)\u001B[0m\u001B[1;33m,\u001B[0m \u001B[0mitems\u001B[0m\u001B[1;33m)\u001B[0m\u001B[1;33m)\u001B[0m\u001B[1;33m\u001B[0m\u001B[1;33m\u001B[0m\u001B[0m\n\u001B[1;32m---> 42\u001B[1;33m             \u001B[0mcur_time\u001B[0m \u001B[1;33m=\u001B[0m \u001B[0msum\u001B[0m\u001B[1;33m(\u001B[0m\u001B[1;33m[\u001B[0m\u001B[0mind\u001B[0m\u001B[1;33m.\u001B[0m\u001B[0mget_data\u001B[0m\u001B[1;33m(\u001B[0m\u001B[1;33m)\u001B[0m\u001B[1;33m.\u001B[0m\u001B[0mtrain_time\u001B[0m \u001B[1;32mfor\u001B[0m \u001B[0mind\u001B[0m \u001B[1;32min\u001B[0m \u001B[0mmap\u001B[0m\u001B[1;33m(\u001B[0m\u001B[1;32mlambda\u001B[0m \u001B[0mx\u001B[0m\u001B[1;33m:\u001B[0m \u001B[0mget_spec\u001B[0m\u001B[1;33m(\u001B[0m\u001B[0mx\u001B[0m\u001B[1;33m)\u001B[0m\u001B[1;33m,\u001B[0m \u001B[0mdone\u001B[0m\u001B[1;33m)\u001B[0m\u001B[1;33m]\u001B[0m\u001B[1;33m)\u001B[0m\u001B[1;33m\u001B[0m\u001B[1;33m\u001B[0m\u001B[0m\n\u001B[0m\u001B[0;32m     43\u001B[0m \u001B[1;33m\u001B[0m\u001B[0m\n\u001B[0;32m     44\u001B[0m         \u001B[0mupdate_done\u001B[0m\u001B[1;33m(\u001B[0m\u001B[0mpopulation\u001B[0m\u001B[1;33m)\u001B[0m\u001B[1;33m\u001B[0m\u001B[1;33m\u001B[0m\u001B[0m\n",
      "\u001B[1;32mD:\\nas-bench\\trials\\Utilities.py\u001B[0m in \u001B[0;36mget_spec\u001B[1;34m(spec_hash)\u001B[0m\n\u001B[0;32m     31\u001B[0m         \u001B[1;32mreturn\u001B[0m \u001B[1;32mNone\u001B[0m\u001B[1;33m\u001B[0m\u001B[1;33m\u001B[0m\u001B[0m\n\u001B[0;32m     32\u001B[0m \u001B[1;33m\u001B[0m\u001B[0m\n\u001B[1;32m---> 33\u001B[1;33m     \u001B[0mspec\u001B[0m \u001B[1;33m=\u001B[0m \u001B[0mnasbench\u001B[0m\u001B[1;33m.\u001B[0m\u001B[0mget_metrics_from_hash\u001B[0m\u001B[1;33m(\u001B[0m\u001B[0mspec_hash\u001B[0m\u001B[1;33m)\u001B[0m\u001B[1;33m\u001B[0m\u001B[1;33m\u001B[0m\u001B[0m\n\u001B[0m\u001B[0;32m     34\u001B[0m     \u001B[0mmatrix\u001B[0m\u001B[1;33m:\u001B[0m \u001B[0mnp\u001B[0m\u001B[1;33m.\u001B[0m\u001B[0mndarray\u001B[0m \u001B[1;33m=\u001B[0m \u001B[0mspec\u001B[0m\u001B[1;33m[\u001B[0m\u001B[1;36m0\u001B[0m\u001B[1;33m]\u001B[0m\u001B[1;33m[\u001B[0m\u001B[1;34m\"module_adjacency\"\u001B[0m\u001B[1;33m]\u001B[0m\u001B[1;33m\u001B[0m\u001B[1;33m\u001B[0m\u001B[0m\n\u001B[0;32m     35\u001B[0m     \u001B[0mops\u001B[0m\u001B[1;33m:\u001B[0m \u001B[0mList\u001B[0m\u001B[1;33m[\u001B[0m\u001B[0mstr\u001B[0m\u001B[1;33m]\u001B[0m \u001B[1;33m=\u001B[0m \u001B[0mspec\u001B[0m\u001B[1;33m[\u001B[0m\u001B[1;36m0\u001B[0m\u001B[1;33m]\u001B[0m\u001B[1;33m[\u001B[0m\u001B[1;34m\"module_operations\"\u001B[0m\u001B[1;33m]\u001B[0m\u001B[1;33m\u001B[0m\u001B[1;33m\u001B[0m\u001B[0m\n",
      "\u001B[1;31mKeyboardInterrupt\u001B[0m: "
     ]
    }
   ],
   "source": [
    "# 365 days of GPU time\n",
    "MAX_TIME = 60*60*24*31\n",
    "N_BEST = 10\n",
    "N_POP = 250\n",
    "N_EPOCH = 1\n",
    "MUT_RATE = 1\n",
    "\n",
    "INITIAL_POPULATION = [random_spec() for idx in range(N_POP)]\n",
    "\n",
    "trials = {\n",
    "    'test': {\n",
    "        \"max_time\": MAX_TIME,\n",
    "        \"num_best\": N_BEST,\n",
    "        \"num_epochs\": N_EPOCH,\n",
    "        \"initial_population\": copy.deepcopy(INITIAL_POPULATION),\n",
    "        \"mut_fn\": mutate_fn(1.0),\n",
    "        \"sel_fn\": sel_tournament_fn(int(N_POP*0.25), int(N_POP*0.1)),\n",
    "        \"drp_fn\": drop_worst_fn(N_POP*0.1)\n",
    "    }\n",
    "}\n",
    "\n",
    "for key, values in trials.items():\n",
    "    print(key)\n",
    "    search(**values)\n",
    "\n"
   ],
   "metadata": {
    "collapsed": false,
    "pycharm": {
     "name": "#%%\n"
    }
   }
  },
  {
   "cell_type": "code",
   "execution_count": 4,
   "outputs": [],
   "source": [],
   "metadata": {
    "collapsed": false,
    "pycharm": {
     "name": "#%%"
    }
   }
  }
 ],
 "metadata": {
  "kernelspec": {
   "display_name": "Python 3",
   "language": "python",
   "name": "python3"
  },
  "language_info": {
   "codemirror_mode": {
    "name": "ipython",
    "version": 2
   },
   "file_extension": ".py",
   "mimetype": "text/x-python",
   "name": "python",
   "nbconvert_exporter": "python",
   "pygments_lexer": "ipython2",
   "version": "2.7.6"
  }
 },
 "nbformat": 4,
 "nbformat_minor": 0
}