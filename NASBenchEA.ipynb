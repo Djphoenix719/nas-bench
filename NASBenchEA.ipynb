{
 "cells": [
  {
   "cell_type": "markdown",
   "source": [
    "Some of this code is Copyright 2019 Google LLC\n",
    "\n",
    "Licensed under the Apache License, Version 2.0 (the \"License\");\n",
    "you may not use this file except in compliance with the License.\n",
    "You may obtain a copy of the License at\n",
    "\n",
    "    https://www.apache.org/licenses/LICENSE-2.0\n",
    "\n",
    "Unless required by applicable law or agreed to in writing, software\n",
    "distributed under the License is distributed on an \"AS IS\" BASIS,\n",
    "WITHOUT WARRANTIES OR CONDITIONS OF ANY KIND, either express or implied.\n",
    "See the License for the specific language governing permissions and\n",
    "limitations under the License."
   ],
   "metadata": {
    "collapsed": false
   }
  },
  {
   "cell_type": "code",
   "execution_count": 1,
   "outputs": [],
   "source": [
    "# Uncomment for just the 108 epoch dataset (~500mb)\n",
    "# !curl -O https://storage.googleapis.com/nasbench/nasbench_only108.tfrecord\n",
    "# Uncomment for the full dataset (~2gb)\n",
    "# !curl -O https://storage.googleapis.com/nasbench/nasbench_full.tfrecord"
   ],
   "metadata": {
    "collapsed": false,
    "pycharm": {
     "name": "#%%\n"
    }
   }
  },
  {
   "cell_type": "code",
   "execution_count": null,
   "outputs": [],
   "source": [
    "import math\n",
    "\n",
    "from trials.Constants import *\n",
    "from trials.Evolution import *\n",
    "from trials.ModelSpec import *\n",
    "from trials.Search import *\n",
    "from trials.Selection import *\n",
    "from trials.Utilities import *\n",
    "\n",
    "from IPython.core.display import clear_output"
   ],
   "metadata": {
    "collapsed": false,
    "pycharm": {
     "name": "#%%\n",
     "is_executing": true
    }
   }
  },
  {
   "cell_type": "code",
   "execution_count": 3,
   "outputs": [],
   "source": [
    "def run_random_search(k: int, max_time: float):\n",
    "    \"\"\"\n",
    "    Runs a simulated random search for a fixed amount of time. Actual time taken will be\n",
    "    relatively quick, only the simulated time is considered. Will return all evaluated models,\n",
    "    along with the k best models found.\n",
    "    :param k: Number of best models to return\n",
    "    :param max_time_budget: The amount of simulated time to expend.\n",
    "    :return: All models evaluated, along with the best k models.\n",
    "    \"\"\"\n",
    "    # resetting seeds at the top of the search functions is required for reproducibility\n",
    "    np.random.seed(RNG_SEED)\n",
    "    random.seed(RNG_SEED)\n",
    "\n",
    "    # nasbench tracks time taken with each query, effectively simulating full\n",
    "    # training, as we can query how long into the training we would be if we\n",
    "    # were training ourselves. we reset the counters at the top of each experiment\n",
    "    nasbench.reset_budget_counters()\n",
    "\n",
    "    best: List[SpecWrapper] = []\n",
    "    models: List[SpecWrapper] = []\n",
    "    evaluated: Set[str] = set()\n",
    "    collisions: int = 0\n",
    "\n",
    "    time_spent, _ = nasbench.get_budget_counters()\n",
    "    while time_spent < max_time:\n",
    "        spec = random_spec()\n",
    "        spec_hash = spec.hash_spec(nasbench.config[\"available_ops\"])\n",
    "\n",
    "        if spec_hash in evaluated:\n",
    "            collisions += 1\n",
    "            continue\n",
    "        else:\n",
    "            evaluated.add(spec_hash)\n",
    "\n",
    "        models.append(spec)\n",
    "        best = sel_best(models, k)\n",
    "        time_spent, _ = nasbench.get_budget_counters()\n",
    "        clear_output(wait=True)\n",
    "        print(f\"{time_spent/1000:0.2f}/{max_time/1000:0.0f}k ({(time_spent/max_time)*100:0.2f}%) seconds simulated\")\n",
    "\n",
    "    print(f\"{len(evaluated)} unique models during random search.\")\n",
    "    print(f\"{collisions} collisions during random search.\")\n",
    "\n",
    "    return models, best"
   ],
   "metadata": {
    "collapsed": false,
    "pycharm": {
     "name": "#%%\n"
    }
   }
  },
  {
   "cell_type": "code",
   "execution_count": 4,
   "outputs": [],
   "source": [
    "from typing import Set\n",
    "from typing import Callable\n",
    "\n",
    "\n",
    "def get_time_taken():\n",
    "    time_spent, _ = nasbench.get_budget_counters()\n",
    "    return time_spent\n"
   ],
   "metadata": {
    "collapsed": false,
    "pycharm": {
     "name": "#%%\n"
    }
   }
  },
  {
   "cell_type": "code",
   "execution_count": 7,
   "outputs": [
    {
     "ename": "TypeError",
     "evalue": "Too many parameters for typing.List; actual 3, expected 1",
     "output_type": "error",
     "traceback": [
      "\u001B[1;31m---------------------------------------------------------------------------\u001B[0m",
      "\u001B[1;31mTypeError\u001B[0m                                 Traceback (most recent call last)",
      "\u001B[1;32m~\\AppData\\Local\\Temp/ipykernel_18572/518978777.py\u001B[0m in \u001B[0;36m<module>\u001B[1;34m\u001B[0m\n\u001B[0;32m      7\u001B[0m         \u001B[0msel_fn\u001B[0m\u001B[1;33m:\u001B[0m \u001B[0mCallable\u001B[0m\u001B[1;33m[\u001B[0m\u001B[1;33m[\u001B[0m\u001B[0mList\u001B[0m\u001B[1;33m[\u001B[0m\u001B[0mSpecWrapper\u001B[0m\u001B[1;33m]\u001B[0m\u001B[1;33m]\u001B[0m\u001B[1;33m,\u001B[0m \u001B[0mList\u001B[0m\u001B[1;33m[\u001B[0m\u001B[0mSpecWrapper\u001B[0m\u001B[1;33m]\u001B[0m\u001B[1;33m]\u001B[0m\u001B[1;33m,\u001B[0m\u001B[1;33m\u001B[0m\u001B[1;33m\u001B[0m\u001B[0m\n\u001B[0;32m      8\u001B[0m         \u001B[0mdrp_fn\u001B[0m\u001B[1;33m:\u001B[0m \u001B[0mCallable\u001B[0m\u001B[1;33m[\u001B[0m\u001B[1;33m[\u001B[0m\u001B[0mList\u001B[0m\u001B[1;33m[\u001B[0m\u001B[0mSpecWrapper\u001B[0m\u001B[1;33m]\u001B[0m\u001B[1;33m]\u001B[0m\u001B[1;33m,\u001B[0m \u001B[0mList\u001B[0m\u001B[1;33m[\u001B[0m\u001B[0mSpecWrapper\u001B[0m\u001B[1;33m]\u001B[0m\u001B[1;33m]\u001B[0m\u001B[1;33m\u001B[0m\u001B[1;33m\u001B[0m\u001B[0m\n\u001B[1;32m----> 9\u001B[1;33m     ) -> [List[List[SpecWrapper], List[SpecWrapper], Set[str]]]:\n\u001B[0m\u001B[0;32m     10\u001B[0m \u001B[1;33m\u001B[0m\u001B[0m\n\u001B[0;32m     11\u001B[0m     \u001B[1;32mdef\u001B[0m \u001B[0mrun_epoch\u001B[0m\u001B[1;33m(\u001B[0m\u001B[0mepoch_num\u001B[0m\u001B[1;33m:\u001B[0m \u001B[0mint\u001B[0m\u001B[1;33m,\u001B[0m \u001B[0mpopulation\u001B[0m\u001B[1;33m:\u001B[0m \u001B[0mList\u001B[0m\u001B[1;33m[\u001B[0m\u001B[0mSpecWrapper\u001B[0m\u001B[1;33m]\u001B[0m\u001B[1;33m)\u001B[0m\u001B[1;33m:\u001B[0m\u001B[1;33m\u001B[0m\u001B[1;33m\u001B[0m\u001B[0m\n",
      "\u001B[1;32m~\\AppData\\Local\\Programs\\Python\\Python37\\lib\\typing.py\u001B[0m in \u001B[0;36minner\u001B[1;34m(*args, **kwds)\u001B[0m\n\u001B[0;32m    252\u001B[0m         \u001B[1;32mexcept\u001B[0m \u001B[0mTypeError\u001B[0m\u001B[1;33m:\u001B[0m\u001B[1;33m\u001B[0m\u001B[1;33m\u001B[0m\u001B[0m\n\u001B[0;32m    253\u001B[0m             \u001B[1;32mpass\u001B[0m  \u001B[1;31m# All real errors (not unhashable args) are raised below.\u001B[0m\u001B[1;33m\u001B[0m\u001B[1;33m\u001B[0m\u001B[0m\n\u001B[1;32m--> 254\u001B[1;33m         \u001B[1;32mreturn\u001B[0m \u001B[0mfunc\u001B[0m\u001B[1;33m(\u001B[0m\u001B[1;33m*\u001B[0m\u001B[0margs\u001B[0m\u001B[1;33m,\u001B[0m \u001B[1;33m**\u001B[0m\u001B[0mkwds\u001B[0m\u001B[1;33m)\u001B[0m\u001B[1;33m\u001B[0m\u001B[1;33m\u001B[0m\u001B[0m\n\u001B[0m\u001B[0;32m    255\u001B[0m     \u001B[1;32mreturn\u001B[0m \u001B[0minner\u001B[0m\u001B[1;33m\u001B[0m\u001B[1;33m\u001B[0m\u001B[0m\n\u001B[0;32m    256\u001B[0m \u001B[1;33m\u001B[0m\u001B[0m\n",
      "\u001B[1;32m~\\AppData\\Local\\Programs\\Python\\Python37\\lib\\typing.py\u001B[0m in \u001B[0;36m__getitem__\u001B[1;34m(self, params)\u001B[0m\n\u001B[0;32m    633\u001B[0m         \u001B[0mmsg\u001B[0m \u001B[1;33m=\u001B[0m \u001B[1;34m\"Parameters to generic types must be types.\"\u001B[0m\u001B[1;33m\u001B[0m\u001B[1;33m\u001B[0m\u001B[0m\n\u001B[0;32m    634\u001B[0m         \u001B[0mparams\u001B[0m \u001B[1;33m=\u001B[0m \u001B[0mtuple\u001B[0m\u001B[1;33m(\u001B[0m\u001B[0m_type_check\u001B[0m\u001B[1;33m(\u001B[0m\u001B[0mp\u001B[0m\u001B[1;33m,\u001B[0m \u001B[0mmsg\u001B[0m\u001B[1;33m)\u001B[0m \u001B[1;32mfor\u001B[0m \u001B[0mp\u001B[0m \u001B[1;32min\u001B[0m \u001B[0mparams\u001B[0m\u001B[1;33m)\u001B[0m\u001B[1;33m\u001B[0m\u001B[1;33m\u001B[0m\u001B[0m\n\u001B[1;32m--> 635\u001B[1;33m         \u001B[0m_check_generic\u001B[0m\u001B[1;33m(\u001B[0m\u001B[0mself\u001B[0m\u001B[1;33m,\u001B[0m \u001B[0mparams\u001B[0m\u001B[1;33m)\u001B[0m\u001B[1;33m\u001B[0m\u001B[1;33m\u001B[0m\u001B[0m\n\u001B[0m\u001B[0;32m    636\u001B[0m         \u001B[1;32mreturn\u001B[0m \u001B[0m_subs_tvars\u001B[0m\u001B[1;33m(\u001B[0m\u001B[0mself\u001B[0m\u001B[1;33m,\u001B[0m \u001B[0mself\u001B[0m\u001B[1;33m.\u001B[0m\u001B[0m__parameters__\u001B[0m\u001B[1;33m,\u001B[0m \u001B[0mparams\u001B[0m\u001B[1;33m)\u001B[0m\u001B[1;33m\u001B[0m\u001B[1;33m\u001B[0m\u001B[0m\n\u001B[0;32m    637\u001B[0m \u001B[1;33m\u001B[0m\u001B[0m\n",
      "\u001B[1;32m~\\AppData\\Local\\Programs\\Python\\Python37\\lib\\typing.py\u001B[0m in \u001B[0;36m_check_generic\u001B[1;34m(cls, parameters)\u001B[0m\n\u001B[0;32m    206\u001B[0m     \u001B[0melen\u001B[0m \u001B[1;33m=\u001B[0m \u001B[0mlen\u001B[0m\u001B[1;33m(\u001B[0m\u001B[0mcls\u001B[0m\u001B[1;33m.\u001B[0m\u001B[0m__parameters__\u001B[0m\u001B[1;33m)\u001B[0m\u001B[1;33m\u001B[0m\u001B[1;33m\u001B[0m\u001B[0m\n\u001B[0;32m    207\u001B[0m     \u001B[1;32mif\u001B[0m \u001B[0malen\u001B[0m \u001B[1;33m!=\u001B[0m \u001B[0melen\u001B[0m\u001B[1;33m:\u001B[0m\u001B[1;33m\u001B[0m\u001B[1;33m\u001B[0m\u001B[0m\n\u001B[1;32m--> 208\u001B[1;33m         raise TypeError(f\"Too {'many' if alen > elen else 'few'} parameters for {cls};\"\n\u001B[0m\u001B[0;32m    209\u001B[0m                         f\" actual {alen}, expected {elen}\")\n\u001B[0;32m    210\u001B[0m \u001B[1;33m\u001B[0m\u001B[0m\n",
      "\u001B[1;31mTypeError\u001B[0m: Too many parameters for typing.List; actual 3, expected 1"
     ]
    }
   ],
   "source": [
    "\n",
    "# TODO: Mutation function creators, define experiment structure\n",
    "\n",
    "def search(\n",
    "        max_time: float,\n",
    "        num_best: int,\n",
    "        num_epochs: int,\n",
    "        initial_population: List[SpecWrapper],\n",
    "        mut_fn: Callable[[List[SpecWrapper]], List[SpecWrapper]],\n",
    "        sel_fn: Callable[[List[SpecWrapper]], List[SpecWrapper]],\n",
    "        drp_fn: Callable[[List[SpecWrapper]], List[SpecWrapper]]\n",
    "    ) -> [List[List[SpecWrapper], List[SpecWrapper], Set[str]]]:\n",
    "\n",
    "    sel_best = sel_best_fn(num_best)\n",
    "\n",
    "    def run_epoch(epoch_num: int, population: List[SpecWrapper]):\n",
    "        # initialize our population list, update budget counters\n",
    "        population = [get_spec(ind.get_hash()) for ind in population]\n",
    "        [ind.get_data() for ind in population]\n",
    "\n",
    "        # desired size of the population\n",
    "        p_size = len(population)\n",
    "\n",
    "        reset_trial_stats(RNG_SEED + epoch_num)\n",
    "\n",
    "        # list of hashes that we have previously evaluated which can be skipped in the future\n",
    "        done: Set[str] = set()\n",
    "\n",
    "        # update done, adding any new hashes to our set\n",
    "        def update_done(items: List[SpecWrapper]):\n",
    "            done.update(map(lambda x: x.get_hash(), items))\n",
    "\n",
    "        update_done(population)\n",
    "\n",
    "        # running cumulative time total of all epochs\n",
    "        cur_time: float = 0\n",
    "\n",
    "        while cur_time < max_time:\n",
    "            [ind.get_data() for ind in population]\n",
    "\n",
    "            # drop some candidates base on the specified function\n",
    "            population = drp_fn(population)\n",
    "            assert len(population) > 0\n",
    "\n",
    "            # number of new specs to generate through mutation or crossover\n",
    "            num_new = p_size - len(population)\n",
    "            new_specs: List[SpecWrapper] = []\n",
    "            while len(new_specs) < num_new:\n",
    "                # select some candidates to mutate\n",
    "                candidates = sel_fn(population)\n",
    "                # mutate the candidates with the fn\n",
    "                candidates = mut_fn(candidates)\n",
    "\n",
    "                # only \"evaluate\" candidates who were not evaluate\n",
    "                # so if we hit a duplicate candidate, we should not\n",
    "                # add more training time, as it is wasteful\n",
    "                cand_hashes = [cand.get_hash() for cand in candidates]\n",
    "                cand_hashes = [hsh for hsh in cand_hashes if hsh not in done]\n",
    "\n",
    "                # remove dupe hashes\n",
    "                candidates = [get_spec(hsh) for hsh in cand_hashes]\n",
    "\n",
    "                # update the list of new specs\n",
    "                new_specs = [*new_specs, *candidates]\n",
    "\n",
    "            population = [*population, *new_specs][:p_size]\n",
    "            [ind.get_data() for ind in population]\n",
    "\n",
    "            cur_time = get_time_taken()\n",
    "            print(f\"{cur_time/1000:0.2f}/{max_time/1000:0.0f}k ({(cur_time/max_time)*100:0.2f}%) seconds simulated\")\n",
    "\n",
    "        best = sel_best(population)\n",
    "        best.sort()\n",
    "\n",
    "        abs_best = best[-1].get_data()\n",
    "        print(f'Best in trial -- Test: {abs_best.test_accuracy:0.7f}, Valid: {abs_best.valid_accuracy:0.7f}')\n",
    "\n",
    "        return population, best, done\n",
    "\n",
    "    results: [List[List[SpecWrapper], List[SpecWrapper], Set[str]]] = []\n",
    "    for epoch_num in range(num_epochs):\n",
    "        population, best, done = run_epoch(epoch_num, initial_population)\n",
    "        results.append([population, best, done])\n",
    "\n",
    "    return results\n",
    "\n"
   ],
   "metadata": {
    "collapsed": false,
    "pycharm": {
     "name": "#%%\n"
    }
   }
  },
  {
   "cell_type": "code",
   "execution_count": null,
   "outputs": [],
   "source": [],
   "metadata": {
    "collapsed": false,
    "pycharm": {
     "name": "#%%\n"
    }
   }
  }
 ],
 "metadata": {
  "kernelspec": {
   "display_name": "Python 3",
   "language": "python",
   "name": "python3"
  },
  "language_info": {
   "codemirror_mode": {
    "name": "ipython",
    "version": 2
   },
   "file_extension": ".py",
   "mimetype": "text/x-python",
   "name": "python",
   "nbconvert_exporter": "python",
   "pygments_lexer": "ipython2",
   "version": "2.7.6"
  }
 },
 "nbformat": 4,
 "nbformat_minor": 0
}